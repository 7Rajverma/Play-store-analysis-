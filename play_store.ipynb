{
 "cells": [
  {
   "cell_type": "code",
   "execution_count": 65,
   "id": "5ea68aac-ad80-4c25-9683-324f5ef9222a",
   "metadata": {},
   "outputs": [],
   "source": [
    "import pandas as pd\n",
    "import numpy as np\n",
    "import matplotlib.pyplot as plt\n",
    "import seaborn as sns\n",
    "import plotly.express as px\n",
    "import plotly.io as pio\n",
    "from sklearn.model_selection import train_test_split\n",
    "from sklearn.ensemble import RandomForestRegressor\n",
    "from sklearn.metrics import mean_squared_error,r2_score\n",
    "from nltk.sentiment.vader import SentimentIntensityAnalyzer\n",
    "import nltk\n",
    "import webbrowser\n",
    "import os"
   ]
  },
  {
   "cell_type": "code",
   "execution_count": 66,
   "id": "8987563d-3ecd-46ee-b044-e68e993879ab",
   "metadata": {},
   "outputs": [],
   "source": [
    "# nltk.download()"
   ]
  },
  {
   "cell_type": "code",
   "execution_count": 67,
   "id": "c6b5ea04-2072-452c-9dbe-bf607584a09a",
   "metadata": {},
   "outputs": [],
   "source": [
    "df = pd.read_csv('Play Store Data.csv')"
   ]
  },
  {
   "cell_type": "code",
   "execution_count": 68,
   "id": "19b30527-823a-4934-8e5f-2bce1e116639",
   "metadata": {},
   "outputs": [
    {
     "data": {
      "text/html": [
       "<div>\n",
       "<style scoped>\n",
       "    .dataframe tbody tr th:only-of-type {\n",
       "        vertical-align: middle;\n",
       "    }\n",
       "\n",
       "    .dataframe tbody tr th {\n",
       "        vertical-align: top;\n",
       "    }\n",
       "\n",
       "    .dataframe thead th {\n",
       "        text-align: right;\n",
       "    }\n",
       "</style>\n",
       "<table border=\"1\" class=\"dataframe\">\n",
       "  <thead>\n",
       "    <tr style=\"text-align: right;\">\n",
       "      <th></th>\n",
       "      <th>App</th>\n",
       "      <th>Category</th>\n",
       "      <th>Rating</th>\n",
       "      <th>Reviews</th>\n",
       "      <th>Size</th>\n",
       "      <th>Installs</th>\n",
       "      <th>Type</th>\n",
       "      <th>Price</th>\n",
       "      <th>Content Rating</th>\n",
       "      <th>Genres</th>\n",
       "      <th>Last Updated</th>\n",
       "      <th>Current Ver</th>\n",
       "      <th>Android Ver</th>\n",
       "    </tr>\n",
       "  </thead>\n",
       "  <tbody>\n",
       "    <tr>\n",
       "      <th>0</th>\n",
       "      <td>Photo Editor &amp; Candy Camera &amp; Grid &amp; ScrapBook</td>\n",
       "      <td>ART_AND_DESIGN</td>\n",
       "      <td>4.1</td>\n",
       "      <td>159</td>\n",
       "      <td>19M</td>\n",
       "      <td>10,000+</td>\n",
       "      <td>Free</td>\n",
       "      <td>0</td>\n",
       "      <td>Everyone</td>\n",
       "      <td>Art &amp; Design</td>\n",
       "      <td>January 7, 2018</td>\n",
       "      <td>1.0.0</td>\n",
       "      <td>4.0.3 and up</td>\n",
       "    </tr>\n",
       "    <tr>\n",
       "      <th>1</th>\n",
       "      <td>Coloring book moana</td>\n",
       "      <td>ART_AND_DESIGN</td>\n",
       "      <td>3.9</td>\n",
       "      <td>967</td>\n",
       "      <td>14M</td>\n",
       "      <td>500,000+</td>\n",
       "      <td>Free</td>\n",
       "      <td>0</td>\n",
       "      <td>Everyone</td>\n",
       "      <td>Art &amp; Design;Pretend Play</td>\n",
       "      <td>January 15, 2018</td>\n",
       "      <td>2.0.0</td>\n",
       "      <td>4.0.3 and up</td>\n",
       "    </tr>\n",
       "    <tr>\n",
       "      <th>2</th>\n",
       "      <td>U Launcher Lite – FREE Live Cool Themes, Hide ...</td>\n",
       "      <td>ART_AND_DESIGN</td>\n",
       "      <td>4.7</td>\n",
       "      <td>87510</td>\n",
       "      <td>8.7M</td>\n",
       "      <td>5,000,000+</td>\n",
       "      <td>Free</td>\n",
       "      <td>0</td>\n",
       "      <td>Everyone</td>\n",
       "      <td>Art &amp; Design</td>\n",
       "      <td>August 1, 2018</td>\n",
       "      <td>1.2.4</td>\n",
       "      <td>4.0.3 and up</td>\n",
       "    </tr>\n",
       "    <tr>\n",
       "      <th>3</th>\n",
       "      <td>Sketch - Draw &amp; Paint</td>\n",
       "      <td>ART_AND_DESIGN</td>\n",
       "      <td>4.5</td>\n",
       "      <td>215644</td>\n",
       "      <td>25M</td>\n",
       "      <td>50,000,000+</td>\n",
       "      <td>Free</td>\n",
       "      <td>0</td>\n",
       "      <td>Teen</td>\n",
       "      <td>Art &amp; Design</td>\n",
       "      <td>June 8, 2018</td>\n",
       "      <td>Varies with device</td>\n",
       "      <td>4.2 and up</td>\n",
       "    </tr>\n",
       "    <tr>\n",
       "      <th>4</th>\n",
       "      <td>Pixel Draw - Number Art Coloring Book</td>\n",
       "      <td>ART_AND_DESIGN</td>\n",
       "      <td>4.3</td>\n",
       "      <td>967</td>\n",
       "      <td>2.8M</td>\n",
       "      <td>100,000+</td>\n",
       "      <td>Free</td>\n",
       "      <td>0</td>\n",
       "      <td>Everyone</td>\n",
       "      <td>Art &amp; Design;Creativity</td>\n",
       "      <td>June 20, 2018</td>\n",
       "      <td>1.1</td>\n",
       "      <td>4.4 and up</td>\n",
       "    </tr>\n",
       "  </tbody>\n",
       "</table>\n",
       "</div>"
      ],
      "text/plain": [
       "                                                 App        Category  Rating  \\\n",
       "0     Photo Editor & Candy Camera & Grid & ScrapBook  ART_AND_DESIGN     4.1   \n",
       "1                                Coloring book moana  ART_AND_DESIGN     3.9   \n",
       "2  U Launcher Lite – FREE Live Cool Themes, Hide ...  ART_AND_DESIGN     4.7   \n",
       "3                              Sketch - Draw & Paint  ART_AND_DESIGN     4.5   \n",
       "4              Pixel Draw - Number Art Coloring Book  ART_AND_DESIGN     4.3   \n",
       "\n",
       "  Reviews  Size     Installs  Type Price Content Rating  \\\n",
       "0     159   19M      10,000+  Free     0       Everyone   \n",
       "1     967   14M     500,000+  Free     0       Everyone   \n",
       "2   87510  8.7M   5,000,000+  Free     0       Everyone   \n",
       "3  215644   25M  50,000,000+  Free     0           Teen   \n",
       "4     967  2.8M     100,000+  Free     0       Everyone   \n",
       "\n",
       "                      Genres      Last Updated         Current Ver  \\\n",
       "0               Art & Design   January 7, 2018               1.0.0   \n",
       "1  Art & Design;Pretend Play  January 15, 2018               2.0.0   \n",
       "2               Art & Design    August 1, 2018               1.2.4   \n",
       "3               Art & Design      June 8, 2018  Varies with device   \n",
       "4    Art & Design;Creativity     June 20, 2018                 1.1   \n",
       "\n",
       "    Android Ver  \n",
       "0  4.0.3 and up  \n",
       "1  4.0.3 and up  \n",
       "2  4.0.3 and up  \n",
       "3    4.2 and up  \n",
       "4    4.4 and up  "
      ]
     },
     "execution_count": 68,
     "metadata": {},
     "output_type": "execute_result"
    }
   ],
   "source": [
    "df.head()"
   ]
  },
  {
   "cell_type": "code",
   "execution_count": 69,
   "id": "d6bcd813-7a08-442d-8b2d-cdf8f94a93b5",
   "metadata": {},
   "outputs": [
    {
     "data": {
      "text/plain": [
       "(10841, 13)"
      ]
     },
     "execution_count": 69,
     "metadata": {},
     "output_type": "execute_result"
    }
   ],
   "source": [
    "df.shape"
   ]
  },
  {
   "cell_type": "code",
   "execution_count": 70,
   "id": "0f0f4188-0a2b-45c0-9e99-cc5a68e6e320",
   "metadata": {},
   "outputs": [
    {
     "name": "stdout",
     "output_type": "stream",
     "text": [
      "<class 'pandas.core.frame.DataFrame'>\n",
      "RangeIndex: 10841 entries, 0 to 10840\n",
      "Data columns (total 13 columns):\n",
      " #   Column          Non-Null Count  Dtype  \n",
      "---  ------          --------------  -----  \n",
      " 0   App             10841 non-null  object \n",
      " 1   Category        10841 non-null  object \n",
      " 2   Rating          9367 non-null   float64\n",
      " 3   Reviews         10841 non-null  object \n",
      " 4   Size            10841 non-null  object \n",
      " 5   Installs        10841 non-null  object \n",
      " 6   Type            10840 non-null  object \n",
      " 7   Price           10841 non-null  object \n",
      " 8   Content Rating  10840 non-null  object \n",
      " 9   Genres          10841 non-null  object \n",
      " 10  Last Updated    10841 non-null  object \n",
      " 11  Current Ver     10833 non-null  object \n",
      " 12  Android Ver     10838 non-null  object \n",
      "dtypes: float64(1), object(12)\n",
      "memory usage: 1.1+ MB\n"
     ]
    }
   ],
   "source": [
    "df.info()"
   ]
  },
  {
   "cell_type": "markdown",
   "id": "90eb4487-dc90-433b-9881-4f83279eaa21",
   "metadata": {},
   "source": [
    "# Data cleaning of Playstore"
   ]
  },
  {
   "cell_type": "code",
   "execution_count": 71,
   "id": "fdd9475e-26b8-4378-a97c-5c828859ab58",
   "metadata": {},
   "outputs": [
    {
     "data": {
      "text/plain": [
       "483"
      ]
     },
     "execution_count": 71,
     "metadata": {},
     "output_type": "execute_result"
    }
   ],
   "source": [
    "df.duplicated().sum()"
   ]
  },
  {
   "cell_type": "code",
   "execution_count": 72,
   "id": "753c690f-9ca8-40d7-b2e0-845a77d44605",
   "metadata": {},
   "outputs": [],
   "source": [
    "df.drop_duplicates(inplace=True)"
   ]
  },
  {
   "cell_type": "code",
   "execution_count": 73,
   "id": "84e3da82-0a5b-4cea-b274-6ea955d3cff3",
   "metadata": {},
   "outputs": [
    {
     "data": {
      "text/plain": [
       "(10358, 13)"
      ]
     },
     "execution_count": 73,
     "metadata": {},
     "output_type": "execute_result"
    }
   ],
   "source": [
    "df.shape"
   ]
  },
  {
   "cell_type": "code",
   "execution_count": 74,
   "id": "e3f9cb1f-4125-4d4f-8b48-ff7e265d3ccb",
   "metadata": {},
   "outputs": [
    {
     "data": {
      "text/plain": [
       "App                  0\n",
       "Category             0\n",
       "Rating            1465\n",
       "Reviews              0\n",
       "Size                 0\n",
       "Installs             0\n",
       "Type                 1\n",
       "Price                0\n",
       "Content Rating       1\n",
       "Genres               0\n",
       "Last Updated         0\n",
       "Current Ver          8\n",
       "Android Ver          3\n",
       "dtype: int64"
      ]
     },
     "execution_count": 74,
     "metadata": {},
     "output_type": "execute_result"
    }
   ],
   "source": [
    "df.isnull().sum()"
   ]
  },
  {
   "cell_type": "markdown",
   "id": "9a1bc07b-0d63-4f80-8aba-fd765cab25fb",
   "metadata": {},
   "source": [
    "### Removing all the null value from all column."
   ]
  },
  {
   "cell_type": "code",
   "execution_count": 75,
   "id": "71698d33-eadf-4356-ae52-3ab26d883534",
   "metadata": {},
   "outputs": [
    {
     "name": "stderr",
     "output_type": "stream",
     "text": [
      "C:\\Users\\rajv6\\AppData\\Local\\Temp\\ipykernel_7036\\651398187.py:2: FutureWarning:\n",
      "\n",
      "A value is trying to be set on a copy of a DataFrame or Series through chained assignment using an inplace method.\n",
      "The behavior will change in pandas 3.0. This inplace method will never work because the intermediate object on which we are setting values always behaves as a copy.\n",
      "\n",
      "For example, when doing 'df[col].method(value, inplace=True)', try using 'df.method({col: value}, inplace=True)' or df[col] = df[col].method(value) instead, to perform the operation inplace on the original object.\n",
      "\n",
      "\n",
      "\n"
     ]
    }
   ],
   "source": [
    "for column in df.columns:\n",
    "    df[column].fillna(df[column].mode()[0],inplace=True)"
   ]
  },
  {
   "cell_type": "code",
   "execution_count": 76,
   "id": "30534001-48b8-4414-9b05-03cf44297630",
   "metadata": {},
   "outputs": [
    {
     "data": {
      "text/plain": [
       "App                object\n",
       "Category           object\n",
       "Rating            float64\n",
       "Reviews            object\n",
       "Size               object\n",
       "Installs           object\n",
       "Type               object\n",
       "Price              object\n",
       "Content Rating     object\n",
       "Genres             object\n",
       "Last Updated       object\n",
       "Current Ver        object\n",
       "Android Ver        object\n",
       "dtype: object"
      ]
     },
     "execution_count": 76,
     "metadata": {},
     "output_type": "execute_result"
    }
   ],
   "source": [
    "df.dtypes"
   ]
  },
  {
   "cell_type": "code",
   "execution_count": 77,
   "id": "0017893c-6b2d-4232-b8e3-081519cc804c",
   "metadata": {},
   "outputs": [
    {
     "data": {
      "text/plain": [
       "array(['0', '$4.99', '$3.99', '$6.99', '$1.49', '$2.99', '$7.99', '$5.99',\n",
       "       '$3.49', '$1.99', '$9.99', '$7.49', '$0.99', '$9.00', '$5.49',\n",
       "       '$10.00', '$24.99', '$11.99', '$79.99', '$16.99', '$14.99',\n",
       "       '$1.00', '$29.99', '$12.99', '$2.49', '$10.99', '$1.50', '$19.99',\n",
       "       '$15.99', '$33.99', '$74.99', '$39.99', '$3.95', '$4.49', '$1.70',\n",
       "       '$8.99', '$2.00', '$3.88', '$25.99', '$399.99', '$17.99',\n",
       "       '$400.00', '$3.02', '$1.76', '$4.84', '$4.77', '$1.61', '$2.50',\n",
       "       '$1.59', '$6.49', '$1.29', '$5.00', '$13.99', '$299.99', '$379.99',\n",
       "       '$37.99', '$18.99', '$389.99', '$19.90', '$8.49', '$1.75',\n",
       "       '$14.00', '$4.85', '$46.99', '$109.99', '$154.99', '$3.08',\n",
       "       '$2.59', '$4.80', '$1.96', '$19.40', '$3.90', '$4.59', '$15.46',\n",
       "       '$3.04', '$4.29', '$2.60', '$3.28', '$4.60', '$28.99', '$2.95',\n",
       "       '$2.90', '$1.97', '$200.00', '$89.99', '$2.56', '$30.99', '$3.61',\n",
       "       '$394.99', '$1.26', 'Everyone', '$1.20', '$1.04'], dtype=object)"
      ]
     },
     "execution_count": 77,
     "metadata": {},
     "output_type": "execute_result"
    }
   ],
   "source": [
    "df[\"Price\"].unique()"
   ]
  },
  {
   "cell_type": "code",
   "execution_count": 78,
   "id": "62b10ca8-3926-4191-aadb-993d29d158ef",
   "metadata": {},
   "outputs": [],
   "source": [
    "df['Price'] = df['Price'].replace('Everyone',0)"
   ]
  },
  {
   "cell_type": "code",
   "execution_count": 79,
   "id": "bdb78753-68f9-4b67-82dc-0468fd35cb27",
   "metadata": {},
   "outputs": [
    {
     "data": {
      "text/plain": [
       "array(['0', '$4.99', '$3.99', '$6.99', '$1.49', '$2.99', '$7.99', '$5.99',\n",
       "       '$3.49', '$1.99', '$9.99', '$7.49', '$0.99', '$9.00', '$5.49',\n",
       "       '$10.00', '$24.99', '$11.99', '$79.99', '$16.99', '$14.99',\n",
       "       '$1.00', '$29.99', '$12.99', '$2.49', '$10.99', '$1.50', '$19.99',\n",
       "       '$15.99', '$33.99', '$74.99', '$39.99', '$3.95', '$4.49', '$1.70',\n",
       "       '$8.99', '$2.00', '$3.88', '$25.99', '$399.99', '$17.99',\n",
       "       '$400.00', '$3.02', '$1.76', '$4.84', '$4.77', '$1.61', '$2.50',\n",
       "       '$1.59', '$6.49', '$1.29', '$5.00', '$13.99', '$299.99', '$379.99',\n",
       "       '$37.99', '$18.99', '$389.99', '$19.90', '$8.49', '$1.75',\n",
       "       '$14.00', '$4.85', '$46.99', '$109.99', '$154.99', '$3.08',\n",
       "       '$2.59', '$4.80', '$1.96', '$19.40', '$3.90', '$4.59', '$15.46',\n",
       "       '$3.04', '$4.29', '$2.60', '$3.28', '$4.60', '$28.99', '$2.95',\n",
       "       '$2.90', '$1.97', '$200.00', '$89.99', '$2.56', '$30.99', '$3.61',\n",
       "       '$394.99', '$1.26', 0, '$1.20', '$1.04'], dtype=object)"
      ]
     },
     "execution_count": 79,
     "metadata": {},
     "output_type": "execute_result"
    }
   ],
   "source": [
    "df[\"Price\"].unique()"
   ]
  },
  {
   "cell_type": "code",
   "execution_count": 80,
   "id": "04b33a50-78ae-45d4-b2a2-3ed16bfe93a2",
   "metadata": {},
   "outputs": [],
   "source": [
    "# There is $ sign in the price we have to replace and change the datatype\n",
    "df['Price'] = df[\"Price\"].str.replace(\"$\",'')\n",
    "df['Price'] = df['Price'].astype(float)"
   ]
  },
  {
   "cell_type": "code",
   "execution_count": 81,
   "id": "b5b7d084-4e7e-41d5-8a31-a57921a825b7",
   "metadata": {},
   "outputs": [
    {
     "data": {
      "text/plain": [
       "0    1,000,000+\n",
       "Name: Installs, dtype: object"
      ]
     },
     "execution_count": 81,
     "metadata": {},
     "output_type": "execute_result"
    }
   ],
   "source": [
    "df['Installs'].mode()"
   ]
  },
  {
   "cell_type": "code",
   "execution_count": 82,
   "id": "5bd2a228-c95b-4b8a-a9ba-14acbcb2fd7f",
   "metadata": {},
   "outputs": [
    {
     "name": "stdout",
     "output_type": "stream",
     "text": [
      "0\n"
     ]
    }
   ],
   "source": [
    "print(df['Installs'].isna().sum())"
   ]
  },
  {
   "cell_type": "code",
   "execution_count": 83,
   "id": "c3d96bab-bb3b-471b-8689-384c78b02377",
   "metadata": {},
   "outputs": [],
   "source": [
    "df['Installs'] = df['Installs'].fillna(0)"
   ]
  },
  {
   "cell_type": "code",
   "execution_count": 84,
   "id": "0bbd7cfc-bf4d-4ed5-97cb-e680bb664eee",
   "metadata": {},
   "outputs": [
    {
     "data": {
      "text/plain": [
       "array(['10,000+', '500,000+', '5,000,000+', '50,000,000+', '100,000+',\n",
       "       '50,000+', '1,000,000+', '10,000,000+', '5,000+', '100,000,000+',\n",
       "       '1,000,000,000+', '1,000+', '500,000,000+', '50+', '100+', '500+',\n",
       "       '10+', '1+', '5+', '0+', '0', 'Free'], dtype=object)"
      ]
     },
     "execution_count": 84,
     "metadata": {},
     "output_type": "execute_result"
    }
   ],
   "source": [
    "df['Installs'].unique()"
   ]
  },
  {
   "cell_type": "code",
   "execution_count": 85,
   "id": "3cdbfac4-a5d9-4062-a44e-8b9ae98f18bd",
   "metadata": {},
   "outputs": [],
   "source": [
    "df['Installs'] = df['Installs'].replace(\"Free\",\"1,000,000+\")"
   ]
  },
  {
   "cell_type": "code",
   "execution_count": 86,
   "id": "ff8027a4-5a72-4840-99d2-03cce744ce81",
   "metadata": {},
   "outputs": [
    {
     "data": {
      "text/plain": [
       "array(['10,000+', '500,000+', '5,000,000+', '50,000,000+', '100,000+',\n",
       "       '50,000+', '1,000,000+', '10,000,000+', '5,000+', '100,000,000+',\n",
       "       '1,000,000,000+', '1,000+', '500,000,000+', '50+', '100+', '500+',\n",
       "       '10+', '1+', '5+', '0+', '0'], dtype=object)"
      ]
     },
     "execution_count": 86,
     "metadata": {},
     "output_type": "execute_result"
    }
   ],
   "source": [
    "df['Installs'].unique()"
   ]
  },
  {
   "cell_type": "code",
   "execution_count": 87,
   "id": "3d524672-46e9-43ff-a139-9de1091ad696",
   "metadata": {},
   "outputs": [],
   "source": [
    "# There is + , sign in the Installs we have to replace and change the datatype str to int\n",
    "df['Installs'] = df[\"Installs\"].str.replace(\"+\",\"\").str.replace(\",\",\"\")"
   ]
  },
  {
   "cell_type": "code",
   "execution_count": 88,
   "id": "03d6d6d0-d048-44aa-a54b-943ac10a727f",
   "metadata": {},
   "outputs": [
    {
     "data": {
      "text/plain": [
       "array(['10000', '500000', '5000000', '50000000', '100000', '50000',\n",
       "       '1000000', '10000000', '5000', '100000000', '1000000000', '1000',\n",
       "       '500000000', '50', '100', '500', '10', '1', '5', '0'], dtype=object)"
      ]
     },
     "execution_count": 88,
     "metadata": {},
     "output_type": "execute_result"
    }
   ],
   "source": [
    "df['Installs'].unique()"
   ]
  },
  {
   "cell_type": "code",
   "execution_count": 89,
   "id": "4855725a-f7e2-4b81-81f1-1b8af626e346",
   "metadata": {},
   "outputs": [],
   "source": [
    "df['Installs'] = df['Installs'].astype(int)"
   ]
  },
  {
   "cell_type": "code",
   "execution_count": 90,
   "id": "59128164-25d9-4c66-8b63-a1bcac81f18b",
   "metadata": {},
   "outputs": [
    {
     "data": {
      "text/plain": [
       "App                object\n",
       "Category           object\n",
       "Rating            float64\n",
       "Reviews            object\n",
       "Size               object\n",
       "Installs            int32\n",
       "Type               object\n",
       "Price             float64\n",
       "Content Rating     object\n",
       "Genres             object\n",
       "Last Updated       object\n",
       "Current Ver        object\n",
       "Android Ver        object\n",
       "dtype: object"
      ]
     },
     "execution_count": 90,
     "metadata": {},
     "output_type": "execute_result"
    }
   ],
   "source": [
    "df.dtypes"
   ]
  },
  {
   "cell_type": "code",
   "execution_count": 91,
   "id": "abff9a28-46a8-4510-878a-3dd1c89c9a9b",
   "metadata": {},
   "outputs": [
    {
     "data": {
      "text/plain": [
       "19.0"
      ]
     },
     "execution_count": 91,
     "metadata": {},
     "output_type": "execute_result"
    }
   ],
   "source": [
    "df['Rating'].max()"
   ]
  },
  {
   "cell_type": "code",
   "execution_count": 92,
   "id": "5c29d351-bb4f-4481-a28a-343b53e22f2f",
   "metadata": {},
   "outputs": [
    {
     "data": {
      "text/html": [
       "<div>\n",
       "<style scoped>\n",
       "    .dataframe tbody tr th:only-of-type {\n",
       "        vertical-align: middle;\n",
       "    }\n",
       "\n",
       "    .dataframe tbody tr th {\n",
       "        vertical-align: top;\n",
       "    }\n",
       "\n",
       "    .dataframe thead th {\n",
       "        text-align: right;\n",
       "    }\n",
       "</style>\n",
       "<table border=\"1\" class=\"dataframe\">\n",
       "  <thead>\n",
       "    <tr style=\"text-align: right;\">\n",
       "      <th></th>\n",
       "      <th>App</th>\n",
       "      <th>Category</th>\n",
       "      <th>Rating</th>\n",
       "      <th>Reviews</th>\n",
       "      <th>Size</th>\n",
       "      <th>Installs</th>\n",
       "      <th>Type</th>\n",
       "      <th>Price</th>\n",
       "      <th>Content Rating</th>\n",
       "      <th>Genres</th>\n",
       "      <th>Last Updated</th>\n",
       "      <th>Current Ver</th>\n",
       "      <th>Android Ver</th>\n",
       "    </tr>\n",
       "  </thead>\n",
       "  <tbody>\n",
       "    <tr>\n",
       "      <th>10472</th>\n",
       "      <td>Life Made WI-Fi Touchscreen Photo Frame</td>\n",
       "      <td>1.9</td>\n",
       "      <td>19.0</td>\n",
       "      <td>3.0M</td>\n",
       "      <td>1,000+</td>\n",
       "      <td>1000000</td>\n",
       "      <td>0</td>\n",
       "      <td>NaN</td>\n",
       "      <td>Everyone</td>\n",
       "      <td>February 11, 2018</td>\n",
       "      <td>1.0.19</td>\n",
       "      <td>4.0 and up</td>\n",
       "      <td>4.1 and up</td>\n",
       "    </tr>\n",
       "  </tbody>\n",
       "</table>\n",
       "</div>"
      ],
      "text/plain": [
       "                                           App Category  Rating Reviews  \\\n",
       "10472  Life Made WI-Fi Touchscreen Photo Frame      1.9    19.0    3.0M   \n",
       "\n",
       "         Size  Installs Type  Price Content Rating             Genres  \\\n",
       "10472  1,000+   1000000    0    NaN       Everyone  February 11, 2018   \n",
       "\n",
       "      Last Updated Current Ver Android Ver  \n",
       "10472       1.0.19  4.0 and up  4.1 and up  "
      ]
     },
     "execution_count": 92,
     "metadata": {},
     "output_type": "execute_result"
    }
   ],
   "source": [
    "df[df.Rating==19.0].head()"
   ]
  },
  {
   "cell_type": "code",
   "execution_count": 93,
   "id": "fd7eb180-74a5-4081-a86b-71c84e0b51da",
   "metadata": {},
   "outputs": [
    {
     "data": {
      "text/plain": [
       "count    10358.000000\n",
       "mean         4.219309\n",
       "std          0.510698\n",
       "min          1.000000\n",
       "25%          4.100000\n",
       "50%          4.400000\n",
       "75%          4.500000\n",
       "max         19.000000\n",
       "Name: Rating, dtype: float64"
      ]
     },
     "execution_count": 93,
     "metadata": {},
     "output_type": "execute_result"
    }
   ],
   "source": [
    "df['Rating'].describe()"
   ]
  },
  {
   "cell_type": "code",
   "execution_count": 94,
   "id": "6a41c3b1-d190-472b-850c-06948e3ca5eb",
   "metadata": {},
   "outputs": [
    {
     "data": {
      "text/plain": [
       "<Axes: ylabel='Rating'>"
      ]
     },
     "execution_count": 94,
     "metadata": {},
     "output_type": "execute_result"
    },
    {
     "data": {
      "image/png": "[encoded data removed]",
      "text/plain": [
       "<Figure size 640x480 with 1 Axes>"
      ]
     },
     "metadata": {},
     "output_type": "display_data"
    }
   ],
   "source": [
    "sns.boxplot(df['Rating'])"
   ]
  },
  {
   "cell_type": "code",
   "execution_count": 95,
   "id": "bb711cbf-bae2-4f5a-bd3e-b4a07e3c72e6",
   "metadata": {},
   "outputs": [
    {
     "name": "stdout",
     "output_type": "stream",
     "text": [
      "0    4.4\n",
      "Name: Rating, dtype: float64\n"
     ]
    }
   ],
   "source": [
    "print(df['Rating'].mode())\n",
    "df['Rating'] = df['Rating'].replace(19.0,4.4)"
   ]
  },
  {
   "cell_type": "code",
   "execution_count": 96,
   "id": "c085f221-328c-4740-a355-31385a8d0b89",
   "metadata": {},
   "outputs": [],
   "source": [
    "df= df[df['Rating']<=5]"
   ]
  },
  {
   "cell_type": "markdown",
   "id": "d0423999-3f8f-4f59-9aa3-10f0f5f28904",
   "metadata": {},
   "source": [
    "# Data cleaning of User"
   ]
  },
  {
   "cell_type": "code",
   "execution_count": 97,
   "id": "c2194d83-3784-4f7e-a62e-ba75ef8ec589",
   "metadata": {},
   "outputs": [],
   "source": [
    "user = pd.read_csv('User Reviews.csv')"
   ]
  },
  {
   "cell_type": "code",
   "execution_count": 98,
   "id": "13aa5ba7-472b-457d-a913-5e35b3ca1a4a",
   "metadata": {},
   "outputs": [
    {
     "data": {
      "text/plain": [
       "(64295, 5)"
      ]
     },
     "execution_count": 98,
     "metadata": {},
     "output_type": "execute_result"
    }
   ],
   "source": [
    "user.shape"
   ]
  },
  {
   "cell_type": "code",
   "execution_count": 99,
   "id": "b40e3569-097a-4a79-99b8-e2b33953d8d9",
   "metadata": {},
   "outputs": [
    {
     "data": {
      "text/html": [
       "<div>\n",
       "<style scoped>\n",
       "    .dataframe tbody tr th:only-of-type {\n",
       "        vertical-align: middle;\n",
       "    }\n",
       "\n",
       "    .dataframe tbody tr th {\n",
       "        vertical-align: top;\n",
       "    }\n",
       "\n",
       "    .dataframe thead th {\n",
       "        text-align: right;\n",
       "    }\n",
       "</style>\n",
       "<table border=\"1\" class=\"dataframe\">\n",
       "  <thead>\n",
       "    <tr style=\"text-align: right;\">\n",
       "      <th></th>\n",
       "      <th>App</th>\n",
       "      <th>Translated_Review</th>\n",
       "      <th>Sentiment</th>\n",
       "      <th>Sentiment_Polarity</th>\n",
       "      <th>Sentiment_Subjectivity</th>\n",
       "    </tr>\n",
       "  </thead>\n",
       "  <tbody>\n",
       "    <tr>\n",
       "      <th>32210</th>\n",
       "      <td>DINO HUNTER: DEADLY SHORES</td>\n",
       "      <td>Awesome game!! Infatuated it. I play day long,...</td>\n",
       "      <td>Positive</td>\n",
       "      <td>0.225000</td>\n",
       "      <td>0.55</td>\n",
       "    </tr>\n",
       "    <tr>\n",
       "      <th>64171</th>\n",
       "      <td>Hotwire Hotel &amp; Car Rental App</td>\n",
       "      <td>Great</td>\n",
       "      <td>Positive</td>\n",
       "      <td>0.800000</td>\n",
       "      <td>0.75</td>\n",
       "    </tr>\n",
       "    <tr>\n",
       "      <th>4</th>\n",
       "      <td>10 Best Foods for You</td>\n",
       "      <td>Best idea us</td>\n",
       "      <td>Positive</td>\n",
       "      <td>1.000000</td>\n",
       "      <td>0.30</td>\n",
       "    </tr>\n",
       "    <tr>\n",
       "      <th>39832</th>\n",
       "      <td>Emoji keyboard - Cute Emoticons, GIF, Stickers</td>\n",
       "      <td>NaN</td>\n",
       "      <td>NaN</td>\n",
       "      <td>NaN</td>\n",
       "      <td>NaN</td>\n",
       "    </tr>\n",
       "    <tr>\n",
       "      <th>5048</th>\n",
       "      <td>Airbnb</td>\n",
       "      <td>Why offer rewards users, allow users post actu...</td>\n",
       "      <td>Negative</td>\n",
       "      <td>-0.166667</td>\n",
       "      <td>0.55</td>\n",
       "    </tr>\n",
       "  </tbody>\n",
       "</table>\n",
       "</div>"
      ],
      "text/plain": [
       "                                                  App  \\\n",
       "32210                      DINO HUNTER: DEADLY SHORES   \n",
       "64171                  Hotwire Hotel & Car Rental App   \n",
       "4                               10 Best Foods for You   \n",
       "39832  Emoji keyboard - Cute Emoticons, GIF, Stickers   \n",
       "5048                                           Airbnb   \n",
       "\n",
       "                                       Translated_Review Sentiment  \\\n",
       "32210  Awesome game!! Infatuated it. I play day long,...  Positive   \n",
       "64171                                              Great  Positive   \n",
       "4                                           Best idea us  Positive   \n",
       "39832                                                NaN       NaN   \n",
       "5048   Why offer rewards users, allow users post actu...  Negative   \n",
       "\n",
       "       Sentiment_Polarity  Sentiment_Subjectivity  \n",
       "32210            0.225000                    0.55  \n",
       "64171            0.800000                    0.75  \n",
       "4                1.000000                    0.30  \n",
       "39832                 NaN                     NaN  \n",
       "5048            -0.166667                    0.55  "
      ]
     },
     "execution_count": 99,
     "metadata": {},
     "output_type": "execute_result"
    }
   ],
   "source": [
    "user.sample(5)"
   ]
  },
  {
   "cell_type": "code",
   "execution_count": 100,
   "id": "2fe6e6f2-7f9c-4c46-abbc-b77be490993a",
   "metadata": {},
   "outputs": [
    {
     "name": "stdout",
     "output_type": "stream",
     "text": [
      "App                           0\n",
      "Translated_Review         26868\n",
      "Sentiment                 26863\n",
      "Sentiment_Polarity        26863\n",
      "Sentiment_Subjectivity    26863\n",
      "dtype: int64\n"
     ]
    }
   ],
   "source": [
    "print(user.isnull().sum())"
   ]
  },
  {
   "cell_type": "code",
   "execution_count": 101,
   "id": "54c0904d-c525-4ebc-8f84-57a079e18ca5",
   "metadata": {},
   "outputs": [],
   "source": [
    "user.dropna(subset=['Translated_Review'],inplace=True)"
   ]
  },
  {
   "cell_type": "code",
   "execution_count": 102,
   "id": "b8e4b401-63bf-4499-9db7-96cbe36cba71",
   "metadata": {},
   "outputs": [
    {
     "name": "stdout",
     "output_type": "stream",
     "text": [
      "App                       0\n",
      "Translated_Review         0\n",
      "Sentiment                 0\n",
      "Sentiment_Polarity        0\n",
      "Sentiment_Subjectivity    0\n",
      "dtype: int64\n"
     ]
    }
   ],
   "source": [
    "print(user.isnull().sum())"
   ]
  },
  {
   "cell_type": "code",
   "execution_count": 103,
   "id": "1087bd31-d824-42c9-a1c8-6a23a71cc0ca",
   "metadata": {},
   "outputs": [
    {
     "data": {
      "text/plain": [
       "(37427, 5)"
      ]
     },
     "execution_count": 103,
     "metadata": {},
     "output_type": "execute_result"
    }
   ],
   "source": [
    "user.shape"
   ]
  },
  {
   "cell_type": "markdown",
   "id": "1ab0fd0e-6209-4200-9747-d96690a9056c",
   "metadata": {},
   "source": [
    "# Merge data "
   ]
  },
  {
   "cell_type": "code",
   "execution_count": 104,
   "id": "283eb6dd-589c-4dba-868e-1e03ced3e942",
   "metadata": {},
   "outputs": [],
   "source": [
    "data = pd.merge(df,user,on='App',how='inner')"
   ]
  },
  {
   "cell_type": "code",
   "execution_count": 105,
   "id": "8f29c3a1-0cfe-48f6-a8e3-a7261149aada",
   "metadata": {},
   "outputs": [
    {
     "data": {
      "text/html": [
       "<div>\n",
       "<style scoped>\n",
       "    .dataframe tbody tr th:only-of-type {\n",
       "        vertical-align: middle;\n",
       "    }\n",
       "\n",
       "    .dataframe tbody tr th {\n",
       "        vertical-align: top;\n",
       "    }\n",
       "\n",
       "    .dataframe thead th {\n",
       "        text-align: right;\n",
       "    }\n",
       "</style>\n",
       "<table border=\"1\" class=\"dataframe\">\n",
       "  <thead>\n",
       "    <tr style=\"text-align: right;\">\n",
       "      <th></th>\n",
       "      <th>App</th>\n",
       "      <th>Category</th>\n",
       "      <th>Rating</th>\n",
       "      <th>Reviews</th>\n",
       "      <th>Size</th>\n",
       "      <th>Installs</th>\n",
       "      <th>Type</th>\n",
       "      <th>Price</th>\n",
       "      <th>Content Rating</th>\n",
       "      <th>Genres</th>\n",
       "      <th>Last Updated</th>\n",
       "      <th>Current Ver</th>\n",
       "      <th>Android Ver</th>\n",
       "      <th>Translated_Review</th>\n",
       "      <th>Sentiment</th>\n",
       "      <th>Sentiment_Polarity</th>\n",
       "      <th>Sentiment_Subjectivity</th>\n",
       "    </tr>\n",
       "  </thead>\n",
       "  <tbody>\n",
       "    <tr>\n",
       "      <th>0</th>\n",
       "      <td>Coloring book moana</td>\n",
       "      <td>ART_AND_DESIGN</td>\n",
       "      <td>3.9</td>\n",
       "      <td>967</td>\n",
       "      <td>14M</td>\n",
       "      <td>500000</td>\n",
       "      <td>Free</td>\n",
       "      <td>0.0</td>\n",
       "      <td>Everyone</td>\n",
       "      <td>Art &amp; Design;Pretend Play</td>\n",
       "      <td>January 15, 2018</td>\n",
       "      <td>2.0.0</td>\n",
       "      <td>4.0.3 and up</td>\n",
       "      <td>A kid's excessive ads. The types ads allowed a...</td>\n",
       "      <td>Negative</td>\n",
       "      <td>-0.250</td>\n",
       "      <td>1.000000</td>\n",
       "    </tr>\n",
       "    <tr>\n",
       "      <th>1</th>\n",
       "      <td>Coloring book moana</td>\n",
       "      <td>ART_AND_DESIGN</td>\n",
       "      <td>3.9</td>\n",
       "      <td>967</td>\n",
       "      <td>14M</td>\n",
       "      <td>500000</td>\n",
       "      <td>Free</td>\n",
       "      <td>0.0</td>\n",
       "      <td>Everyone</td>\n",
       "      <td>Art &amp; Design;Pretend Play</td>\n",
       "      <td>January 15, 2018</td>\n",
       "      <td>2.0.0</td>\n",
       "      <td>4.0.3 and up</td>\n",
       "      <td>It bad &gt;:(</td>\n",
       "      <td>Negative</td>\n",
       "      <td>-0.725</td>\n",
       "      <td>0.833333</td>\n",
       "    </tr>\n",
       "    <tr>\n",
       "      <th>2</th>\n",
       "      <td>Coloring book moana</td>\n",
       "      <td>ART_AND_DESIGN</td>\n",
       "      <td>3.9</td>\n",
       "      <td>967</td>\n",
       "      <td>14M</td>\n",
       "      <td>500000</td>\n",
       "      <td>Free</td>\n",
       "      <td>0.0</td>\n",
       "      <td>Everyone</td>\n",
       "      <td>Art &amp; Design;Pretend Play</td>\n",
       "      <td>January 15, 2018</td>\n",
       "      <td>2.0.0</td>\n",
       "      <td>4.0.3 and up</td>\n",
       "      <td>like</td>\n",
       "      <td>Neutral</td>\n",
       "      <td>0.000</td>\n",
       "      <td>0.000000</td>\n",
       "    </tr>\n",
       "    <tr>\n",
       "      <th>3</th>\n",
       "      <td>Coloring book moana</td>\n",
       "      <td>ART_AND_DESIGN</td>\n",
       "      <td>3.9</td>\n",
       "      <td>967</td>\n",
       "      <td>14M</td>\n",
       "      <td>500000</td>\n",
       "      <td>Free</td>\n",
       "      <td>0.0</td>\n",
       "      <td>Everyone</td>\n",
       "      <td>Art &amp; Design;Pretend Play</td>\n",
       "      <td>January 15, 2018</td>\n",
       "      <td>2.0.0</td>\n",
       "      <td>4.0.3 and up</td>\n",
       "      <td>I love colors inspyering</td>\n",
       "      <td>Positive</td>\n",
       "      <td>0.500</td>\n",
       "      <td>0.600000</td>\n",
       "    </tr>\n",
       "    <tr>\n",
       "      <th>4</th>\n",
       "      <td>Coloring book moana</td>\n",
       "      <td>ART_AND_DESIGN</td>\n",
       "      <td>3.9</td>\n",
       "      <td>967</td>\n",
       "      <td>14M</td>\n",
       "      <td>500000</td>\n",
       "      <td>Free</td>\n",
       "      <td>0.0</td>\n",
       "      <td>Everyone</td>\n",
       "      <td>Art &amp; Design;Pretend Play</td>\n",
       "      <td>January 15, 2018</td>\n",
       "      <td>2.0.0</td>\n",
       "      <td>4.0.3 and up</td>\n",
       "      <td>I hate</td>\n",
       "      <td>Negative</td>\n",
       "      <td>-0.800</td>\n",
       "      <td>0.900000</td>\n",
       "    </tr>\n",
       "  </tbody>\n",
       "</table>\n",
       "</div>"
      ],
      "text/plain": [
       "                   App        Category  Rating Reviews Size  Installs  Type  \\\n",
       "0  Coloring book moana  ART_AND_DESIGN     3.9     967  14M    500000  Free   \n",
       "1  Coloring book moana  ART_AND_DESIGN     3.9     967  14M    500000  Free   \n",
       "2  Coloring book moana  ART_AND_DESIGN     3.9     967  14M    500000  Free   \n",
       "3  Coloring book moana  ART_AND_DESIGN     3.9     967  14M    500000  Free   \n",
       "4  Coloring book moana  ART_AND_DESIGN     3.9     967  14M    500000  Free   \n",
       "\n",
       "   Price Content Rating                     Genres      Last Updated  \\\n",
       "0    0.0       Everyone  Art & Design;Pretend Play  January 15, 2018   \n",
       "1    0.0       Everyone  Art & Design;Pretend Play  January 15, 2018   \n",
       "2    0.0       Everyone  Art & Design;Pretend Play  January 15, 2018   \n",
       "3    0.0       Everyone  Art & Design;Pretend Play  January 15, 2018   \n",
       "4    0.0       Everyone  Art & Design;Pretend Play  January 15, 2018   \n",
       "\n",
       "  Current Ver   Android Ver  \\\n",
       "0       2.0.0  4.0.3 and up   \n",
       "1       2.0.0  4.0.3 and up   \n",
       "2       2.0.0  4.0.3 and up   \n",
       "3       2.0.0  4.0.3 and up   \n",
       "4       2.0.0  4.0.3 and up   \n",
       "\n",
       "                                   Translated_Review Sentiment  \\\n",
       "0  A kid's excessive ads. The types ads allowed a...  Negative   \n",
       "1                                         It bad >:(  Negative   \n",
       "2                                               like   Neutral   \n",
       "3                           I love colors inspyering  Positive   \n",
       "4                                             I hate  Negative   \n",
       "\n",
       "   Sentiment_Polarity  Sentiment_Subjectivity  \n",
       "0              -0.250                1.000000  \n",
       "1              -0.725                0.833333  \n",
       "2               0.000                0.000000  \n",
       "3               0.500                0.600000  \n",
       "4              -0.800                0.900000  "
      ]
     },
     "execution_count": 105,
     "metadata": {},
     "output_type": "execute_result"
    }
   ],
   "source": [
    "data.head()"
   ]
  },
  {
   "cell_type": "code",
   "execution_count": 106,
   "id": "01c3e3c0-d8e5-4725-929d-bd38b7605deb",
   "metadata": {},
   "outputs": [
    {
     "name": "stdout",
     "output_type": "stream",
     "text": [
      "App                       0\n",
      "Category                  0\n",
      "Rating                    0\n",
      "Reviews                   0\n",
      "Size                      0\n",
      "Installs                  0\n",
      "Type                      0\n",
      "Price                     0\n",
      "Content Rating            0\n",
      "Genres                    0\n",
      "Last Updated              0\n",
      "Current Ver               0\n",
      "Android Ver               0\n",
      "Translated_Review         0\n",
      "Sentiment                 0\n",
      "Sentiment_Polarity        0\n",
      "Sentiment_Subjectivity    0\n",
      "dtype: int64\n"
     ]
    }
   ],
   "source": [
    "print(data.isnull().sum())"
   ]
  },
  {
   "cell_type": "code",
   "execution_count": 107,
   "id": "910f7f5e-6c86-40fd-b090-92de2eabf7a4",
   "metadata": {},
   "outputs": [
    {
     "name": "stdout",
     "output_type": "stream",
     "text": [
      "18749\n"
     ]
    }
   ],
   "source": [
    "print(data.duplicated().sum())"
   ]
  },
  {
   "cell_type": "code",
   "execution_count": 108,
   "id": "044c7e69-d20f-48c2-afd2-c208003599b0",
   "metadata": {},
   "outputs": [],
   "source": [
    "def convert_size(size):\n",
    "    if 'M' in size:\n",
    "        return float(size.replace(\"M\",\"\"))\n",
    "    elif 'K' in size:\n",
    "        return float(size.replace('K',''))/1024\n",
    "    else:\n",
    "        return 'nan'\n",
    "\n",
    "data['Size'] = data['Size'].apply(convert_size) "
   ]
  },
  {
   "cell_type": "code",
   "execution_count": 109,
   "id": "c3b99213-d6ad-445a-a6e7-37b2cbf748b8",
   "metadata": {},
   "outputs": [
    {
     "name": "stdout",
     "output_type": "stream",
     "text": [
      "<class 'pandas.core.frame.DataFrame'>\n",
      "RangeIndex: 59163 entries, 0 to 59162\n",
      "Data columns (total 17 columns):\n",
      " #   Column                  Non-Null Count  Dtype  \n",
      "---  ------                  --------------  -----  \n",
      " 0   App                     59163 non-null  object \n",
      " 1   Category                59163 non-null  object \n",
      " 2   Rating                  59163 non-null  float64\n",
      " 3   Reviews                 59163 non-null  object \n",
      " 4   Size                    59163 non-null  object \n",
      " 5   Installs                59163 non-null  int32  \n",
      " 6   Type                    59163 non-null  object \n",
      " 7   Price                   59163 non-null  float64\n",
      " 8   Content Rating          59163 non-null  object \n",
      " 9   Genres                  59163 non-null  object \n",
      " 10  Last Updated            59163 non-null  object \n",
      " 11  Current Ver             59163 non-null  object \n",
      " 12  Android Ver             59163 non-null  object \n",
      " 13  Translated_Review       59163 non-null  object \n",
      " 14  Sentiment               59163 non-null  object \n",
      " 15  Sentiment_Polarity      59163 non-null  float64\n",
      " 16  Sentiment_Subjectivity  59163 non-null  float64\n",
      "dtypes: float64(4), int32(1), object(12)\n",
      "memory usage: 7.4+ MB\n"
     ]
    }
   ],
   "source": [
    "data.info()"
   ]
  },
  {
   "cell_type": "code",
   "execution_count": 110,
   "id": "d24d3bc6-a3af-46a0-8fd4-8934869a69a2",
   "metadata": {},
   "outputs": [],
   "source": [
    "data['Reviews'] = data['Reviews'].astype(int)"
   ]
  },
  {
   "cell_type": "code",
   "execution_count": 111,
   "id": "b7052148-a43d-4741-94c7-3894aa64afc2",
   "metadata": {},
   "outputs": [],
   "source": [
    "data['Log_Installs'] = np.log(data['Installs'])\n",
    "data['Log_Reviews'] = np.log(data['Reviews'])"
   ]
  },
  {
   "cell_type": "code",
   "execution_count": 112,
   "id": "d077daa2-f7a1-45d5-b2a4-3c35a9cc5761",
   "metadata": {},
   "outputs": [
    {
     "data": {
      "text/html": [
       "<div>\n",
       "<style scoped>\n",
       "    .dataframe tbody tr th:only-of-type {\n",
       "        vertical-align: middle;\n",
       "    }\n",
       "\n",
       "    .dataframe tbody tr th {\n",
       "        vertical-align: top;\n",
       "    }\n",
       "\n",
       "    .dataframe thead th {\n",
       "        text-align: right;\n",
       "    }\n",
       "</style>\n",
       "<table border=\"1\" class=\"dataframe\">\n",
       "  <thead>\n",
       "    <tr style=\"text-align: right;\">\n",
       "      <th></th>\n",
       "      <th>App</th>\n",
       "      <th>Category</th>\n",
       "      <th>Rating</th>\n",
       "      <th>Reviews</th>\n",
       "      <th>Size</th>\n",
       "      <th>Installs</th>\n",
       "      <th>Type</th>\n",
       "      <th>Price</th>\n",
       "      <th>Content Rating</th>\n",
       "      <th>Genres</th>\n",
       "      <th>Last Updated</th>\n",
       "      <th>Current Ver</th>\n",
       "      <th>Android Ver</th>\n",
       "      <th>Translated_Review</th>\n",
       "      <th>Sentiment</th>\n",
       "      <th>Sentiment_Polarity</th>\n",
       "      <th>Sentiment_Subjectivity</th>\n",
       "      <th>Log_Installs</th>\n",
       "      <th>Log_Reviews</th>\n",
       "    </tr>\n",
       "  </thead>\n",
       "  <tbody>\n",
       "    <tr>\n",
       "      <th>1498</th>\n",
       "      <td>Golden Dictionary (EN-AR)</td>\n",
       "      <td>BOOKS_AND_REFERENCE</td>\n",
       "      <td>4.4</td>\n",
       "      <td>51269</td>\n",
       "      <td>6.1</td>\n",
       "      <td>1000000</td>\n",
       "      <td>Free</td>\n",
       "      <td>0.00</td>\n",
       "      <td>Everyone</td>\n",
       "      <td>Books &amp; Reference</td>\n",
       "      <td>July 19, 2018</td>\n",
       "      <td>7.0.4.6</td>\n",
       "      <td>4.2 and up</td>\n",
       "      <td>wow</td>\n",
       "      <td>Positive</td>\n",
       "      <td>0.10</td>\n",
       "      <td>1.000000</td>\n",
       "      <td>13.815511</td>\n",
       "      <td>10.844842</td>\n",
       "    </tr>\n",
       "    <tr>\n",
       "      <th>4237</th>\n",
       "      <td>BBW Dating &amp; Plus Size Chat</td>\n",
       "      <td>DATING</td>\n",
       "      <td>4.4</td>\n",
       "      <td>12632</td>\n",
       "      <td>29.0</td>\n",
       "      <td>1000000</td>\n",
       "      <td>Free</td>\n",
       "      <td>0.00</td>\n",
       "      <td>Mature 17+</td>\n",
       "      <td>Dating</td>\n",
       "      <td>July 27, 2018</td>\n",
       "      <td>3.5.0.1</td>\n",
       "      <td>4.1 and up</td>\n",
       "      <td>Not paying message someone see liked me.</td>\n",
       "      <td>Positive</td>\n",
       "      <td>0.60</td>\n",
       "      <td>0.800000</td>\n",
       "      <td>13.815511</td>\n",
       "      <td>9.443989</td>\n",
       "    </tr>\n",
       "    <tr>\n",
       "      <th>32140</th>\n",
       "      <td>DisneyNOW – TV Shows &amp; Games</td>\n",
       "      <td>FAMILY</td>\n",
       "      <td>4.3</td>\n",
       "      <td>82471</td>\n",
       "      <td>nan</td>\n",
       "      <td>5000000</td>\n",
       "      <td>Free</td>\n",
       "      <td>0.00</td>\n",
       "      <td>Everyone</td>\n",
       "      <td>Entertainment;Music &amp; Video</td>\n",
       "      <td>July 5, 2018</td>\n",
       "      <td>Varies with device</td>\n",
       "      <td>4.4 and up</td>\n",
       "      <td>It's nice kids want watch show demand cable. H...</td>\n",
       "      <td>Positive</td>\n",
       "      <td>0.05</td>\n",
       "      <td>0.775000</td>\n",
       "      <td>15.424948</td>\n",
       "      <td>11.320202</td>\n",
       "    </tr>\n",
       "    <tr>\n",
       "      <th>57409</th>\n",
       "      <td>Dr. Panda &amp; Toto's Treehouse</td>\n",
       "      <td>FAMILY</td>\n",
       "      <td>4.4</td>\n",
       "      <td>3397</td>\n",
       "      <td>9.5</td>\n",
       "      <td>50000</td>\n",
       "      <td>Paid</td>\n",
       "      <td>3.99</td>\n",
       "      <td>Everyone</td>\n",
       "      <td>Casual;Pretend Play</td>\n",
       "      <td>December 9, 2014</td>\n",
       "      <td>1.8</td>\n",
       "      <td>4.0 and up</td>\n",
       "      <td>No content In this simulation the children do ...</td>\n",
       "      <td>Neutral</td>\n",
       "      <td>0.00</td>\n",
       "      <td>0.000000</td>\n",
       "      <td>10.819778</td>\n",
       "      <td>8.130648</td>\n",
       "    </tr>\n",
       "    <tr>\n",
       "      <th>8981</th>\n",
       "      <td>Colorfy: Coloring Book for Adults - Free</td>\n",
       "      <td>ENTERTAINMENT</td>\n",
       "      <td>4.5</td>\n",
       "      <td>787177</td>\n",
       "      <td>nan</td>\n",
       "      <td>10000000</td>\n",
       "      <td>Free</td>\n",
       "      <td>0.00</td>\n",
       "      <td>Everyone</td>\n",
       "      <td>Entertainment</td>\n",
       "      <td>June 20, 2018</td>\n",
       "      <td>Varies with device</td>\n",
       "      <td>Varies with device</td>\n",
       "      <td>This really good game! It helps calm forget ba...</td>\n",
       "      <td>Negative</td>\n",
       "      <td>-0.04</td>\n",
       "      <td>0.503333</td>\n",
       "      <td>16.118096</td>\n",
       "      <td>13.576208</td>\n",
       "    </tr>\n",
       "  </tbody>\n",
       "</table>\n",
       "</div>"
      ],
      "text/plain": [
       "                                            App             Category  Rating  \\\n",
       "1498                  Golden Dictionary (EN-AR)  BOOKS_AND_REFERENCE     4.4   \n",
       "4237                BBW Dating & Plus Size Chat               DATING     4.4   \n",
       "32140              DisneyNOW – TV Shows & Games               FAMILY     4.3   \n",
       "57409              Dr. Panda & Toto's Treehouse               FAMILY     4.4   \n",
       "8981   Colorfy: Coloring Book for Adults - Free        ENTERTAINMENT     4.5   \n",
       "\n",
       "       Reviews  Size  Installs  Type  Price Content Rating  \\\n",
       "1498     51269   6.1   1000000  Free   0.00       Everyone   \n",
       "4237     12632  29.0   1000000  Free   0.00     Mature 17+   \n",
       "32140    82471   nan   5000000  Free   0.00       Everyone   \n",
       "57409     3397   9.5     50000  Paid   3.99       Everyone   \n",
       "8981    787177   nan  10000000  Free   0.00       Everyone   \n",
       "\n",
       "                            Genres      Last Updated         Current Ver  \\\n",
       "1498             Books & Reference     July 19, 2018             7.0.4.6   \n",
       "4237                        Dating     July 27, 2018             3.5.0.1   \n",
       "32140  Entertainment;Music & Video      July 5, 2018  Varies with device   \n",
       "57409          Casual;Pretend Play  December 9, 2014                 1.8   \n",
       "8981                 Entertainment     June 20, 2018  Varies with device   \n",
       "\n",
       "              Android Ver                                  Translated_Review  \\\n",
       "1498           4.2 and up                                                wow   \n",
       "4237           4.1 and up           Not paying message someone see liked me.   \n",
       "32140          4.4 and up  It's nice kids want watch show demand cable. H...   \n",
       "57409          4.0 and up  No content In this simulation the children do ...   \n",
       "8981   Varies with device  This really good game! It helps calm forget ba...   \n",
       "\n",
       "      Sentiment  Sentiment_Polarity  Sentiment_Subjectivity  Log_Installs  \\\n",
       "1498   Positive                0.10                1.000000     13.815511   \n",
       "4237   Positive                0.60                0.800000     13.815511   \n",
       "32140  Positive                0.05                0.775000     15.424948   \n",
       "57409   Neutral                0.00                0.000000     10.819778   \n",
       "8981   Negative               -0.04                0.503333     16.118096   \n",
       "\n",
       "       Log_Reviews  \n",
       "1498     10.844842  \n",
       "4237      9.443989  \n",
       "32140    11.320202  \n",
       "57409     8.130648  \n",
       "8981     13.576208  "
      ]
     },
     "execution_count": 112,
     "metadata": {},
     "output_type": "execute_result"
    }
   ],
   "source": [
    "data.sample(5)"
   ]
  },
  {
   "cell_type": "code",
   "execution_count": 113,
   "id": "087699f7-9876-446d-b228-79938dc5c9cf",
   "metadata": {},
   "outputs": [],
   "source": [
    "def rating_group(rate):\n",
    "    if rate >=4:\n",
    "        return \"Top rated app\"\n",
    "    elif rate >=3:\n",
    "        return \"Above Average\"\n",
    "    elif rate >=2:\n",
    "        return \"Average\"\n",
    "    else:\n",
    "        return \"Blow Average\"\n",
    "data['Rating Group'] = data['Rating'].apply(rating_group)"
   ]
  },
  {
   "cell_type": "code",
   "execution_count": 114,
   "id": "84a4121d-1f6a-4fc3-8f6f-828bb124a100",
   "metadata": {},
   "outputs": [
    {
     "data": {
      "text/html": [
       "<div>\n",
       "<style scoped>\n",
       "    .dataframe tbody tr th:only-of-type {\n",
       "        vertical-align: middle;\n",
       "    }\n",
       "\n",
       "    .dataframe tbody tr th {\n",
       "        vertical-align: top;\n",
       "    }\n",
       "\n",
       "    .dataframe thead th {\n",
       "        text-align: right;\n",
       "    }\n",
       "</style>\n",
       "<table border=\"1\" class=\"dataframe\">\n",
       "  <thead>\n",
       "    <tr style=\"text-align: right;\">\n",
       "      <th></th>\n",
       "      <th>App</th>\n",
       "      <th>Category</th>\n",
       "      <th>Rating</th>\n",
       "      <th>Reviews</th>\n",
       "      <th>Size</th>\n",
       "      <th>Installs</th>\n",
       "      <th>Type</th>\n",
       "      <th>Price</th>\n",
       "      <th>Content Rating</th>\n",
       "      <th>Genres</th>\n",
       "      <th>Last Updated</th>\n",
       "      <th>Current Ver</th>\n",
       "      <th>Android Ver</th>\n",
       "      <th>Translated_Review</th>\n",
       "      <th>Sentiment</th>\n",
       "      <th>Sentiment_Polarity</th>\n",
       "      <th>Sentiment_Subjectivity</th>\n",
       "      <th>Log_Installs</th>\n",
       "      <th>Log_Reviews</th>\n",
       "      <th>Rating Group</th>\n",
       "    </tr>\n",
       "  </thead>\n",
       "  <tbody>\n",
       "    <tr>\n",
       "      <th>58257</th>\n",
       "      <td>Google News</td>\n",
       "      <td>NEWS_AND_MAGAZINES</td>\n",
       "      <td>3.9</td>\n",
       "      <td>878065</td>\n",
       "      <td>13.0</td>\n",
       "      <td>1000000000</td>\n",
       "      <td>Free</td>\n",
       "      <td>0.0</td>\n",
       "      <td>Teen</td>\n",
       "      <td>News &amp; Magazines</td>\n",
       "      <td>August 1, 2018</td>\n",
       "      <td>5.2.0</td>\n",
       "      <td>4.4 and up</td>\n",
       "      <td>Best news yet. The stories relevant interests ...</td>\n",
       "      <td>Positive</td>\n",
       "      <td>0.633333</td>\n",
       "      <td>0.600000</td>\n",
       "      <td>20.723266</td>\n",
       "      <td>13.685476</td>\n",
       "      <td>Above Average</td>\n",
       "    </tr>\n",
       "    <tr>\n",
       "      <th>46258</th>\n",
       "      <td>Adobe Acrobat Reader</td>\n",
       "      <td>PRODUCTIVITY</td>\n",
       "      <td>4.3</td>\n",
       "      <td>3016305</td>\n",
       "      <td>nan</td>\n",
       "      <td>100000000</td>\n",
       "      <td>Free</td>\n",
       "      <td>0.0</td>\n",
       "      <td>Everyone</td>\n",
       "      <td>Productivity</td>\n",
       "      <td>April 17, 2018</td>\n",
       "      <td>Varies with device</td>\n",
       "      <td>Varies with device</td>\n",
       "      <td>Forces account password means Google knowledge...</td>\n",
       "      <td>Negative</td>\n",
       "      <td>-0.275000</td>\n",
       "      <td>0.566667</td>\n",
       "      <td>18.420681</td>\n",
       "      <td>14.919543</td>\n",
       "      <td>Top rated app</td>\n",
       "    </tr>\n",
       "    <tr>\n",
       "      <th>15507</th>\n",
       "      <td>H&amp;M</td>\n",
       "      <td>LIFESTYLE</td>\n",
       "      <td>3.7</td>\n",
       "      <td>41941</td>\n",
       "      <td>14.0</td>\n",
       "      <td>10000000</td>\n",
       "      <td>Free</td>\n",
       "      <td>0.0</td>\n",
       "      <td>Everyone</td>\n",
       "      <td>Lifestyle</td>\n",
       "      <td>July 30, 2018</td>\n",
       "      <td>9.6.3</td>\n",
       "      <td>4.4 and up</td>\n",
       "      <td>I wish I update !!!! I loved old better thinki...</td>\n",
       "      <td>Positive</td>\n",
       "      <td>0.201732</td>\n",
       "      <td>0.381169</td>\n",
       "      <td>16.118096</td>\n",
       "      <td>10.644019</td>\n",
       "      <td>Above Average</td>\n",
       "    </tr>\n",
       "    <tr>\n",
       "      <th>46797</th>\n",
       "      <td>Dropbox</td>\n",
       "      <td>PRODUCTIVITY</td>\n",
       "      <td>4.4</td>\n",
       "      <td>1861309</td>\n",
       "      <td>61.0</td>\n",
       "      <td>500000000</td>\n",
       "      <td>Free</td>\n",
       "      <td>0.0</td>\n",
       "      <td>Everyone</td>\n",
       "      <td>Productivity</td>\n",
       "      <td>August 1, 2018</td>\n",
       "      <td>Varies with device</td>\n",
       "      <td>Varies with device</td>\n",
       "      <td>It suck much data space does.</td>\n",
       "      <td>Positive</td>\n",
       "      <td>0.200000</td>\n",
       "      <td>0.200000</td>\n",
       "      <td>20.030119</td>\n",
       "      <td>14.436791</td>\n",
       "      <td>Top rated app</td>\n",
       "    </tr>\n",
       "    <tr>\n",
       "      <th>16267</th>\n",
       "      <td>Bubble Shooter</td>\n",
       "      <td>GAME</td>\n",
       "      <td>4.5</td>\n",
       "      <td>148897</td>\n",
       "      <td>46.0</td>\n",
       "      <td>10000000</td>\n",
       "      <td>Free</td>\n",
       "      <td>0.0</td>\n",
       "      <td>Everyone</td>\n",
       "      <td>Casual</td>\n",
       "      <td>July 17, 2018</td>\n",
       "      <td>1.20.1</td>\n",
       "      <td>4.0.3 and up</td>\n",
       "      <td>My free work time never uploads new video plz ...</td>\n",
       "      <td>Positive</td>\n",
       "      <td>0.245455</td>\n",
       "      <td>0.484848</td>\n",
       "      <td>16.118096</td>\n",
       "      <td>11.911010</td>\n",
       "      <td>Top rated app</td>\n",
       "    </tr>\n",
       "  </tbody>\n",
       "</table>\n",
       "</div>"
      ],
      "text/plain": [
       "                        App            Category  Rating  Reviews  Size  \\\n",
       "58257           Google News  NEWS_AND_MAGAZINES     3.9   878065  13.0   \n",
       "46258  Adobe Acrobat Reader        PRODUCTIVITY     4.3  3016305   nan   \n",
       "15507                   H&M           LIFESTYLE     3.7    41941  14.0   \n",
       "46797               Dropbox        PRODUCTIVITY     4.4  1861309  61.0   \n",
       "16267        Bubble Shooter                GAME     4.5   148897  46.0   \n",
       "\n",
       "         Installs  Type  Price Content Rating            Genres  \\\n",
       "58257  1000000000  Free    0.0           Teen  News & Magazines   \n",
       "46258   100000000  Free    0.0       Everyone      Productivity   \n",
       "15507    10000000  Free    0.0       Everyone         Lifestyle   \n",
       "46797   500000000  Free    0.0       Everyone      Productivity   \n",
       "16267    10000000  Free    0.0       Everyone            Casual   \n",
       "\n",
       "         Last Updated         Current Ver         Android Ver  \\\n",
       "58257  August 1, 2018               5.2.0          4.4 and up   \n",
       "46258  April 17, 2018  Varies with device  Varies with device   \n",
       "15507   July 30, 2018               9.6.3          4.4 and up   \n",
       "46797  August 1, 2018  Varies with device  Varies with device   \n",
       "16267   July 17, 2018              1.20.1        4.0.3 and up   \n",
       "\n",
       "                                       Translated_Review Sentiment  \\\n",
       "58257  Best news yet. The stories relevant interests ...  Positive   \n",
       "46258  Forces account password means Google knowledge...  Negative   \n",
       "15507  I wish I update !!!! I loved old better thinki...  Positive   \n",
       "46797                      It suck much data space does.  Positive   \n",
       "16267  My free work time never uploads new video plz ...  Positive   \n",
       "\n",
       "       Sentiment_Polarity  Sentiment_Subjectivity  Log_Installs  Log_Reviews  \\\n",
       "58257            0.633333                0.600000     20.723266    13.685476   \n",
       "46258           -0.275000                0.566667     18.420681    14.919543   \n",
       "15507            0.201732                0.381169     16.118096    10.644019   \n",
       "46797            0.200000                0.200000     20.030119    14.436791   \n",
       "16267            0.245455                0.484848     16.118096    11.911010   \n",
       "\n",
       "        Rating Group  \n",
       "58257  Above Average  \n",
       "46258  Top rated app  \n",
       "15507  Above Average  \n",
       "46797  Top rated app  \n",
       "16267  Top rated app  "
      ]
     },
     "execution_count": 114,
     "metadata": {},
     "output_type": "execute_result"
    }
   ],
   "source": [
    "data.sample(5)"
   ]
  },
  {
   "cell_type": "code",
   "execution_count": 115,
   "id": "1560bbb0-1f92-418f-839d-396af9602f43",
   "metadata": {},
   "outputs": [],
   "source": [
    "# Makeing new column Revenue\n",
    "data[\"Revenue\"]  = data['Price']*data['Installs']"
   ]
  },
  {
   "cell_type": "code",
   "execution_count": 116,
   "id": "5c24adb7-b77b-4123-a4ad-58c81aa80c2a",
   "metadata": {},
   "outputs": [
    {
     "name": "stdout",
     "output_type": "stream",
     "text": [
      "2490000.0\n",
      "29.99\n"
     ]
    }
   ],
   "source": [
    "print(data['Revenue'].max())\n",
    "print(data['Price'].max())"
   ]
  },
  {
   "cell_type": "code",
   "execution_count": 117,
   "id": "b93d5187-13e3-400e-9e4e-f3b0fe53897e",
   "metadata": {},
   "outputs": [
    {
     "data": {
      "text/html": [
       "<div>\n",
       "<style scoped>\n",
       "    .dataframe tbody tr th:only-of-type {\n",
       "        vertical-align: middle;\n",
       "    }\n",
       "\n",
       "    .dataframe tbody tr th {\n",
       "        vertical-align: top;\n",
       "    }\n",
       "\n",
       "    .dataframe thead th {\n",
       "        text-align: right;\n",
       "    }\n",
       "</style>\n",
       "<table border=\"1\" class=\"dataframe\">\n",
       "  <thead>\n",
       "    <tr style=\"text-align: right;\">\n",
       "      <th></th>\n",
       "      <th>App</th>\n",
       "      <th>Category</th>\n",
       "      <th>Rating</th>\n",
       "      <th>Reviews</th>\n",
       "      <th>Size</th>\n",
       "      <th>Installs</th>\n",
       "      <th>Type</th>\n",
       "      <th>Price</th>\n",
       "      <th>Content Rating</th>\n",
       "      <th>Genres</th>\n",
       "      <th>...</th>\n",
       "      <th>Current Ver</th>\n",
       "      <th>Android Ver</th>\n",
       "      <th>Translated_Review</th>\n",
       "      <th>Sentiment</th>\n",
       "      <th>Sentiment_Polarity</th>\n",
       "      <th>Sentiment_Subjectivity</th>\n",
       "      <th>Log_Installs</th>\n",
       "      <th>Log_Reviews</th>\n",
       "      <th>Rating Group</th>\n",
       "      <th>Revenue</th>\n",
       "    </tr>\n",
       "  </thead>\n",
       "  <tbody>\n",
       "    <tr>\n",
       "      <th>0</th>\n",
       "      <td>Coloring book moana</td>\n",
       "      <td>ART_AND_DESIGN</td>\n",
       "      <td>3.9</td>\n",
       "      <td>967</td>\n",
       "      <td>14.0</td>\n",
       "      <td>500000</td>\n",
       "      <td>Free</td>\n",
       "      <td>0.0</td>\n",
       "      <td>Everyone</td>\n",
       "      <td>Art &amp; Design;Pretend Play</td>\n",
       "      <td>...</td>\n",
       "      <td>2.0.0</td>\n",
       "      <td>4.0.3 and up</td>\n",
       "      <td>A kid's excessive ads. The types ads allowed a...</td>\n",
       "      <td>Negative</td>\n",
       "      <td>-0.250</td>\n",
       "      <td>1.000000</td>\n",
       "      <td>13.122363</td>\n",
       "      <td>6.874198</td>\n",
       "      <td>Above Average</td>\n",
       "      <td>0.0</td>\n",
       "    </tr>\n",
       "    <tr>\n",
       "      <th>1</th>\n",
       "      <td>Coloring book moana</td>\n",
       "      <td>ART_AND_DESIGN</td>\n",
       "      <td>3.9</td>\n",
       "      <td>967</td>\n",
       "      <td>14.0</td>\n",
       "      <td>500000</td>\n",
       "      <td>Free</td>\n",
       "      <td>0.0</td>\n",
       "      <td>Everyone</td>\n",
       "      <td>Art &amp; Design;Pretend Play</td>\n",
       "      <td>...</td>\n",
       "      <td>2.0.0</td>\n",
       "      <td>4.0.3 and up</td>\n",
       "      <td>It bad &gt;:(</td>\n",
       "      <td>Negative</td>\n",
       "      <td>-0.725</td>\n",
       "      <td>0.833333</td>\n",
       "      <td>13.122363</td>\n",
       "      <td>6.874198</td>\n",
       "      <td>Above Average</td>\n",
       "      <td>0.0</td>\n",
       "    </tr>\n",
       "    <tr>\n",
       "      <th>2</th>\n",
       "      <td>Coloring book moana</td>\n",
       "      <td>ART_AND_DESIGN</td>\n",
       "      <td>3.9</td>\n",
       "      <td>967</td>\n",
       "      <td>14.0</td>\n",
       "      <td>500000</td>\n",
       "      <td>Free</td>\n",
       "      <td>0.0</td>\n",
       "      <td>Everyone</td>\n",
       "      <td>Art &amp; Design;Pretend Play</td>\n",
       "      <td>...</td>\n",
       "      <td>2.0.0</td>\n",
       "      <td>4.0.3 and up</td>\n",
       "      <td>like</td>\n",
       "      <td>Neutral</td>\n",
       "      <td>0.000</td>\n",
       "      <td>0.000000</td>\n",
       "      <td>13.122363</td>\n",
       "      <td>6.874198</td>\n",
       "      <td>Above Average</td>\n",
       "      <td>0.0</td>\n",
       "    </tr>\n",
       "    <tr>\n",
       "      <th>3</th>\n",
       "      <td>Coloring book moana</td>\n",
       "      <td>ART_AND_DESIGN</td>\n",
       "      <td>3.9</td>\n",
       "      <td>967</td>\n",
       "      <td>14.0</td>\n",
       "      <td>500000</td>\n",
       "      <td>Free</td>\n",
       "      <td>0.0</td>\n",
       "      <td>Everyone</td>\n",
       "      <td>Art &amp; Design;Pretend Play</td>\n",
       "      <td>...</td>\n",
       "      <td>2.0.0</td>\n",
       "      <td>4.0.3 and up</td>\n",
       "      <td>I love colors inspyering</td>\n",
       "      <td>Positive</td>\n",
       "      <td>0.500</td>\n",
       "      <td>0.600000</td>\n",
       "      <td>13.122363</td>\n",
       "      <td>6.874198</td>\n",
       "      <td>Above Average</td>\n",
       "      <td>0.0</td>\n",
       "    </tr>\n",
       "  </tbody>\n",
       "</table>\n",
       "<p>4 rows × 21 columns</p>\n",
       "</div>"
      ],
      "text/plain": [
       "                   App        Category  Rating  Reviews  Size  Installs  Type  \\\n",
       "0  Coloring book moana  ART_AND_DESIGN     3.9      967  14.0    500000  Free   \n",
       "1  Coloring book moana  ART_AND_DESIGN     3.9      967  14.0    500000  Free   \n",
       "2  Coloring book moana  ART_AND_DESIGN     3.9      967  14.0    500000  Free   \n",
       "3  Coloring book moana  ART_AND_DESIGN     3.9      967  14.0    500000  Free   \n",
       "\n",
       "   Price Content Rating                     Genres  ... Current Ver  \\\n",
       "0    0.0       Everyone  Art & Design;Pretend Play  ...       2.0.0   \n",
       "1    0.0       Everyone  Art & Design;Pretend Play  ...       2.0.0   \n",
       "2    0.0       Everyone  Art & Design;Pretend Play  ...       2.0.0   \n",
       "3    0.0       Everyone  Art & Design;Pretend Play  ...       2.0.0   \n",
       "\n",
       "    Android Ver                                  Translated_Review Sentiment  \\\n",
       "0  4.0.3 and up  A kid's excessive ads. The types ads allowed a...  Negative   \n",
       "1  4.0.3 and up                                         It bad >:(  Negative   \n",
       "2  4.0.3 and up                                               like   Neutral   \n",
       "3  4.0.3 and up                           I love colors inspyering  Positive   \n",
       "\n",
       "  Sentiment_Polarity  Sentiment_Subjectivity  Log_Installs  Log_Reviews  \\\n",
       "0             -0.250                1.000000     13.122363     6.874198   \n",
       "1             -0.725                0.833333     13.122363     6.874198   \n",
       "2              0.000                0.000000     13.122363     6.874198   \n",
       "3              0.500                0.600000     13.122363     6.874198   \n",
       "\n",
       "    Rating Group Revenue  \n",
       "0  Above Average     0.0  \n",
       "1  Above Average     0.0  \n",
       "2  Above Average     0.0  \n",
       "3  Above Average     0.0  \n",
       "\n",
       "[4 rows x 21 columns]"
      ]
     },
     "execution_count": 117,
     "metadata": {},
     "output_type": "execute_result"
    }
   ],
   "source": [
    "data.head(4)"
   ]
  },
  {
   "cell_type": "markdown",
   "id": "0109a07b-8231-402b-b586-d3f605b66c4c",
   "metadata": {},
   "source": [
    "# Sentiment Analysis"
   ]
  },
  {
   "cell_type": "code",
   "execution_count": 118,
   "id": "17c0417a-8b39-44b3-9b48-3ec9f20c68a0",
   "metadata": {},
   "outputs": [],
   "source": [
    "sai = SentimentIntensityAnalyzer()"
   ]
  },
  {
   "cell_type": "markdown",
   "id": "56676df8-6d66-4028-aeb8-55ff4babab89",
   "metadata": {},
   "source": [
    "## Polarity score in Sentiment Intensity Analyzer.\n",
    "### - Positive , Negative, Neutral and Compound .\n",
    "### - Value of Compound close to -1 then it is very negative .\n",
    "### - Value of Compound close to +1 then it is very positive."
   ]
  },
  {
   "cell_type": "code",
   "execution_count": 119,
   "id": "7e728ff9-d2b9-4b7f-b50d-c4a8da3471b2",
   "metadata": {},
   "outputs": [
    {
     "name": "stdout",
     "output_type": "stream",
     "text": [
      "{'neg': 0.0, 'neu': 0.42, 'pos': 0.58, 'compound': 0.8516}\n"
     ]
    }
   ],
   "source": [
    "review = 'This app is amazing ! And I love the features.'\n",
    "sentimete_score = sai.polarity_scores(review)\n",
    "print(sentimete_score)"
   ]
  },
  {
   "cell_type": "code",
   "execution_count": 120,
   "id": "411d3634-f6b5-41c1-a42b-ed0457bb6c50",
   "metadata": {},
   "outputs": [
    {
     "name": "stdout",
     "output_type": "stream",
     "text": [
      "{'neg': 0.535, 'neu': 0.465, 'pos': 0.0, 'compound': -0.8427}\n"
     ]
    }
   ],
   "source": [
    "# 53 % negative and Compound is very negative \n",
    "review = 'This app is very bad! I hate the new features'\n",
    "sentimete_score = sai.polarity_scores(review)\n",
    "print(sentimete_score)"
   ]
  },
  {
   "cell_type": "code",
   "execution_count": 121,
   "id": "a3fd9f08-2d27-4c56-b5ab-28831a62ccef",
   "metadata": {},
   "outputs": [
    {
     "name": "stdout",
     "output_type": "stream",
     "text": [
      "{'neg': 0.0, 'neu': 1.0, 'pos': 0.0, 'compound': 0.0}\n"
     ]
    }
   ],
   "source": [
    "# 100% Neutral analysis \n",
    "review = 'This app is okey! features are not that much imprassive'\n",
    "sentimete_score = sai.polarity_scores(review)\n",
    "print(sentimete_score)"
   ]
  },
  {
   "cell_type": "markdown",
   "id": "1da1924d-ddca-437c-87ec-a263dd48a528",
   "metadata": {},
   "source": [
    "## Back to the datasets"
   ]
  },
  {
   "cell_type": "code",
   "execution_count": 122,
   "id": "e188141a-a84b-4928-81cd-48960974db00",
   "metadata": {},
   "outputs": [],
   "source": [
    "data[\"Sentiment_score\"] = data[\"Translated_Review\"].apply(lambda x: sai.polarity_scores(str(x))['compound'])"
   ]
  },
  {
   "cell_type": "code",
   "execution_count": 123,
   "id": "ea3589c7-7a58-4ce0-a756-aded736f0e7c",
   "metadata": {},
   "outputs": [
    {
     "data": {
      "text/html": [
       "<div>\n",
       "<style scoped>\n",
       "    .dataframe tbody tr th:only-of-type {\n",
       "        vertical-align: middle;\n",
       "    }\n",
       "\n",
       "    .dataframe tbody tr th {\n",
       "        vertical-align: top;\n",
       "    }\n",
       "\n",
       "    .dataframe thead th {\n",
       "        text-align: right;\n",
       "    }\n",
       "</style>\n",
       "<table border=\"1\" class=\"dataframe\">\n",
       "  <thead>\n",
       "    <tr style=\"text-align: right;\">\n",
       "      <th></th>\n",
       "      <th>App</th>\n",
       "      <th>Category</th>\n",
       "      <th>Rating</th>\n",
       "      <th>Reviews</th>\n",
       "      <th>Size</th>\n",
       "      <th>Installs</th>\n",
       "      <th>Type</th>\n",
       "      <th>Price</th>\n",
       "      <th>Content Rating</th>\n",
       "      <th>Genres</th>\n",
       "      <th>...</th>\n",
       "      <th>Android Ver</th>\n",
       "      <th>Translated_Review</th>\n",
       "      <th>Sentiment</th>\n",
       "      <th>Sentiment_Polarity</th>\n",
       "      <th>Sentiment_Subjectivity</th>\n",
       "      <th>Log_Installs</th>\n",
       "      <th>Log_Reviews</th>\n",
       "      <th>Rating Group</th>\n",
       "      <th>Revenue</th>\n",
       "      <th>Sentiment_score</th>\n",
       "    </tr>\n",
       "  </thead>\n",
       "  <tbody>\n",
       "    <tr>\n",
       "      <th>0</th>\n",
       "      <td>Coloring book moana</td>\n",
       "      <td>ART_AND_DESIGN</td>\n",
       "      <td>3.9</td>\n",
       "      <td>967</td>\n",
       "      <td>14.0</td>\n",
       "      <td>500000</td>\n",
       "      <td>Free</td>\n",
       "      <td>0.0</td>\n",
       "      <td>Everyone</td>\n",
       "      <td>Art &amp; Design;Pretend Play</td>\n",
       "      <td>...</td>\n",
       "      <td>4.0.3 and up</td>\n",
       "      <td>A kid's excessive ads. The types ads allowed a...</td>\n",
       "      <td>Negative</td>\n",
       "      <td>-0.250</td>\n",
       "      <td>1.000000</td>\n",
       "      <td>13.122363</td>\n",
       "      <td>6.874198</td>\n",
       "      <td>Above Average</td>\n",
       "      <td>0.0</td>\n",
       "      <td>-0.2500</td>\n",
       "    </tr>\n",
       "    <tr>\n",
       "      <th>1</th>\n",
       "      <td>Coloring book moana</td>\n",
       "      <td>ART_AND_DESIGN</td>\n",
       "      <td>3.9</td>\n",
       "      <td>967</td>\n",
       "      <td>14.0</td>\n",
       "      <td>500000</td>\n",
       "      <td>Free</td>\n",
       "      <td>0.0</td>\n",
       "      <td>Everyone</td>\n",
       "      <td>Art &amp; Design;Pretend Play</td>\n",
       "      <td>...</td>\n",
       "      <td>4.0.3 and up</td>\n",
       "      <td>It bad &gt;:(</td>\n",
       "      <td>Negative</td>\n",
       "      <td>-0.725</td>\n",
       "      <td>0.833333</td>\n",
       "      <td>13.122363</td>\n",
       "      <td>6.874198</td>\n",
       "      <td>Above Average</td>\n",
       "      <td>0.0</td>\n",
       "      <td>-0.8020</td>\n",
       "    </tr>\n",
       "    <tr>\n",
       "      <th>2</th>\n",
       "      <td>Coloring book moana</td>\n",
       "      <td>ART_AND_DESIGN</td>\n",
       "      <td>3.9</td>\n",
       "      <td>967</td>\n",
       "      <td>14.0</td>\n",
       "      <td>500000</td>\n",
       "      <td>Free</td>\n",
       "      <td>0.0</td>\n",
       "      <td>Everyone</td>\n",
       "      <td>Art &amp; Design;Pretend Play</td>\n",
       "      <td>...</td>\n",
       "      <td>4.0.3 and up</td>\n",
       "      <td>like</td>\n",
       "      <td>Neutral</td>\n",
       "      <td>0.000</td>\n",
       "      <td>0.000000</td>\n",
       "      <td>13.122363</td>\n",
       "      <td>6.874198</td>\n",
       "      <td>Above Average</td>\n",
       "      <td>0.0</td>\n",
       "      <td>0.3612</td>\n",
       "    </tr>\n",
       "    <tr>\n",
       "      <th>3</th>\n",
       "      <td>Coloring book moana</td>\n",
       "      <td>ART_AND_DESIGN</td>\n",
       "      <td>3.9</td>\n",
       "      <td>967</td>\n",
       "      <td>14.0</td>\n",
       "      <td>500000</td>\n",
       "      <td>Free</td>\n",
       "      <td>0.0</td>\n",
       "      <td>Everyone</td>\n",
       "      <td>Art &amp; Design;Pretend Play</td>\n",
       "      <td>...</td>\n",
       "      <td>4.0.3 and up</td>\n",
       "      <td>I love colors inspyering</td>\n",
       "      <td>Positive</td>\n",
       "      <td>0.500</td>\n",
       "      <td>0.600000</td>\n",
       "      <td>13.122363</td>\n",
       "      <td>6.874198</td>\n",
       "      <td>Above Average</td>\n",
       "      <td>0.0</td>\n",
       "      <td>0.6369</td>\n",
       "    </tr>\n",
       "  </tbody>\n",
       "</table>\n",
       "<p>4 rows × 22 columns</p>\n",
       "</div>"
      ],
      "text/plain": [
       "                   App        Category  Rating  Reviews  Size  Installs  Type  \\\n",
       "0  Coloring book moana  ART_AND_DESIGN     3.9      967  14.0    500000  Free   \n",
       "1  Coloring book moana  ART_AND_DESIGN     3.9      967  14.0    500000  Free   \n",
       "2  Coloring book moana  ART_AND_DESIGN     3.9      967  14.0    500000  Free   \n",
       "3  Coloring book moana  ART_AND_DESIGN     3.9      967  14.0    500000  Free   \n",
       "\n",
       "   Price Content Rating                     Genres  ...   Android Ver  \\\n",
       "0    0.0       Everyone  Art & Design;Pretend Play  ...  4.0.3 and up   \n",
       "1    0.0       Everyone  Art & Design;Pretend Play  ...  4.0.3 and up   \n",
       "2    0.0       Everyone  Art & Design;Pretend Play  ...  4.0.3 and up   \n",
       "3    0.0       Everyone  Art & Design;Pretend Play  ...  4.0.3 and up   \n",
       "\n",
       "                                   Translated_Review Sentiment  \\\n",
       "0  A kid's excessive ads. The types ads allowed a...  Negative   \n",
       "1                                         It bad >:(  Negative   \n",
       "2                                               like   Neutral   \n",
       "3                           I love colors inspyering  Positive   \n",
       "\n",
       "  Sentiment_Polarity Sentiment_Subjectivity  Log_Installs  Log_Reviews  \\\n",
       "0             -0.250               1.000000     13.122363     6.874198   \n",
       "1             -0.725               0.833333     13.122363     6.874198   \n",
       "2              0.000               0.000000     13.122363     6.874198   \n",
       "3              0.500               0.600000     13.122363     6.874198   \n",
       "\n",
       "    Rating Group  Revenue Sentiment_score  \n",
       "0  Above Average      0.0         -0.2500  \n",
       "1  Above Average      0.0         -0.8020  \n",
       "2  Above Average      0.0          0.3612  \n",
       "3  Above Average      0.0          0.6369  \n",
       "\n",
       "[4 rows x 22 columns]"
      ]
     },
     "execution_count": 123,
     "metadata": {},
     "output_type": "execute_result"
    }
   ],
   "source": [
    "data.head(4)"
   ]
  },
  {
   "cell_type": "markdown",
   "id": "169d0f7a-cbdc-499b-a985-abb461a4cc72",
   "metadata": {},
   "source": [
    "## Extracting year from Last Updated column."
   ]
  },
  {
   "cell_type": "code",
   "execution_count": 124,
   "id": "0390dcde-d827-4237-b601-b2a349beab33",
   "metadata": {},
   "outputs": [],
   "source": [
    "data['Last Updated'] = pd.to_datetime(data['Last Updated'],errors=\"coerce\")"
   ]
  },
  {
   "cell_type": "code",
   "execution_count": 125,
   "id": "ad04ba1a-f5e9-4a4c-8172-93d64d34e857",
   "metadata": {},
   "outputs": [],
   "source": [
    "data['Year'] = data['Last Updated'].dt.year"
   ]
  },
  {
   "cell_type": "code",
   "execution_count": 126,
   "id": "9bfa2c06-38ca-4096-bf04-7423a75a4d24",
   "metadata": {},
   "outputs": [
    {
     "data": {
      "text/html": [
       "<div>\n",
       "<style scoped>\n",
       "    .dataframe tbody tr th:only-of-type {\n",
       "        vertical-align: middle;\n",
       "    }\n",
       "\n",
       "    .dataframe tbody tr th {\n",
       "        vertical-align: top;\n",
       "    }\n",
       "\n",
       "    .dataframe thead th {\n",
       "        text-align: right;\n",
       "    }\n",
       "</style>\n",
       "<table border=\"1\" class=\"dataframe\">\n",
       "  <thead>\n",
       "    <tr style=\"text-align: right;\">\n",
       "      <th></th>\n",
       "      <th>App</th>\n",
       "      <th>Category</th>\n",
       "      <th>Rating</th>\n",
       "      <th>Reviews</th>\n",
       "      <th>Size</th>\n",
       "      <th>Installs</th>\n",
       "      <th>Type</th>\n",
       "      <th>Price</th>\n",
       "      <th>Content Rating</th>\n",
       "      <th>Genres</th>\n",
       "      <th>...</th>\n",
       "      <th>Translated_Review</th>\n",
       "      <th>Sentiment</th>\n",
       "      <th>Sentiment_Polarity</th>\n",
       "      <th>Sentiment_Subjectivity</th>\n",
       "      <th>Log_Installs</th>\n",
       "      <th>Log_Reviews</th>\n",
       "      <th>Rating Group</th>\n",
       "      <th>Revenue</th>\n",
       "      <th>Sentiment_score</th>\n",
       "      <th>Year</th>\n",
       "    </tr>\n",
       "  </thead>\n",
       "  <tbody>\n",
       "    <tr>\n",
       "      <th>0</th>\n",
       "      <td>Coloring book moana</td>\n",
       "      <td>ART_AND_DESIGN</td>\n",
       "      <td>3.9</td>\n",
       "      <td>967</td>\n",
       "      <td>14.0</td>\n",
       "      <td>500000</td>\n",
       "      <td>Free</td>\n",
       "      <td>0.0</td>\n",
       "      <td>Everyone</td>\n",
       "      <td>Art &amp; Design;Pretend Play</td>\n",
       "      <td>...</td>\n",
       "      <td>A kid's excessive ads. The types ads allowed a...</td>\n",
       "      <td>Negative</td>\n",
       "      <td>-0.250</td>\n",
       "      <td>1.000000</td>\n",
       "      <td>13.122363</td>\n",
       "      <td>6.874198</td>\n",
       "      <td>Above Average</td>\n",
       "      <td>0.0</td>\n",
       "      <td>-0.2500</td>\n",
       "      <td>2018</td>\n",
       "    </tr>\n",
       "    <tr>\n",
       "      <th>1</th>\n",
       "      <td>Coloring book moana</td>\n",
       "      <td>ART_AND_DESIGN</td>\n",
       "      <td>3.9</td>\n",
       "      <td>967</td>\n",
       "      <td>14.0</td>\n",
       "      <td>500000</td>\n",
       "      <td>Free</td>\n",
       "      <td>0.0</td>\n",
       "      <td>Everyone</td>\n",
       "      <td>Art &amp; Design;Pretend Play</td>\n",
       "      <td>...</td>\n",
       "      <td>It bad &gt;:(</td>\n",
       "      <td>Negative</td>\n",
       "      <td>-0.725</td>\n",
       "      <td>0.833333</td>\n",
       "      <td>13.122363</td>\n",
       "      <td>6.874198</td>\n",
       "      <td>Above Average</td>\n",
       "      <td>0.0</td>\n",
       "      <td>-0.8020</td>\n",
       "      <td>2018</td>\n",
       "    </tr>\n",
       "    <tr>\n",
       "      <th>2</th>\n",
       "      <td>Coloring book moana</td>\n",
       "      <td>ART_AND_DESIGN</td>\n",
       "      <td>3.9</td>\n",
       "      <td>967</td>\n",
       "      <td>14.0</td>\n",
       "      <td>500000</td>\n",
       "      <td>Free</td>\n",
       "      <td>0.0</td>\n",
       "      <td>Everyone</td>\n",
       "      <td>Art &amp; Design;Pretend Play</td>\n",
       "      <td>...</td>\n",
       "      <td>like</td>\n",
       "      <td>Neutral</td>\n",
       "      <td>0.000</td>\n",
       "      <td>0.000000</td>\n",
       "      <td>13.122363</td>\n",
       "      <td>6.874198</td>\n",
       "      <td>Above Average</td>\n",
       "      <td>0.0</td>\n",
       "      <td>0.3612</td>\n",
       "      <td>2018</td>\n",
       "    </tr>\n",
       "    <tr>\n",
       "      <th>3</th>\n",
       "      <td>Coloring book moana</td>\n",
       "      <td>ART_AND_DESIGN</td>\n",
       "      <td>3.9</td>\n",
       "      <td>967</td>\n",
       "      <td>14.0</td>\n",
       "      <td>500000</td>\n",
       "      <td>Free</td>\n",
       "      <td>0.0</td>\n",
       "      <td>Everyone</td>\n",
       "      <td>Art &amp; Design;Pretend Play</td>\n",
       "      <td>...</td>\n",
       "      <td>I love colors inspyering</td>\n",
       "      <td>Positive</td>\n",
       "      <td>0.500</td>\n",
       "      <td>0.600000</td>\n",
       "      <td>13.122363</td>\n",
       "      <td>6.874198</td>\n",
       "      <td>Above Average</td>\n",
       "      <td>0.0</td>\n",
       "      <td>0.6369</td>\n",
       "      <td>2018</td>\n",
       "    </tr>\n",
       "    <tr>\n",
       "      <th>4</th>\n",
       "      <td>Coloring book moana</td>\n",
       "      <td>ART_AND_DESIGN</td>\n",
       "      <td>3.9</td>\n",
       "      <td>967</td>\n",
       "      <td>14.0</td>\n",
       "      <td>500000</td>\n",
       "      <td>Free</td>\n",
       "      <td>0.0</td>\n",
       "      <td>Everyone</td>\n",
       "      <td>Art &amp; Design;Pretend Play</td>\n",
       "      <td>...</td>\n",
       "      <td>I hate</td>\n",
       "      <td>Negative</td>\n",
       "      <td>-0.800</td>\n",
       "      <td>0.900000</td>\n",
       "      <td>13.122363</td>\n",
       "      <td>6.874198</td>\n",
       "      <td>Above Average</td>\n",
       "      <td>0.0</td>\n",
       "      <td>-0.5719</td>\n",
       "      <td>2018</td>\n",
       "    </tr>\n",
       "  </tbody>\n",
       "</table>\n",
       "<p>5 rows × 23 columns</p>\n",
       "</div>"
      ],
      "text/plain": [
       "                   App        Category  Rating  Reviews  Size  Installs  Type  \\\n",
       "0  Coloring book moana  ART_AND_DESIGN     3.9      967  14.0    500000  Free   \n",
       "1  Coloring book moana  ART_AND_DESIGN     3.9      967  14.0    500000  Free   \n",
       "2  Coloring book moana  ART_AND_DESIGN     3.9      967  14.0    500000  Free   \n",
       "3  Coloring book moana  ART_AND_DESIGN     3.9      967  14.0    500000  Free   \n",
       "4  Coloring book moana  ART_AND_DESIGN     3.9      967  14.0    500000  Free   \n",
       "\n",
       "   Price Content Rating                     Genres  ...  \\\n",
       "0    0.0       Everyone  Art & Design;Pretend Play  ...   \n",
       "1    0.0       Everyone  Art & Design;Pretend Play  ...   \n",
       "2    0.0       Everyone  Art & Design;Pretend Play  ...   \n",
       "3    0.0       Everyone  Art & Design;Pretend Play  ...   \n",
       "4    0.0       Everyone  Art & Design;Pretend Play  ...   \n",
       "\n",
       "                                   Translated_Review Sentiment  \\\n",
       "0  A kid's excessive ads. The types ads allowed a...  Negative   \n",
       "1                                         It bad >:(  Negative   \n",
       "2                                               like   Neutral   \n",
       "3                           I love colors inspyering  Positive   \n",
       "4                                             I hate  Negative   \n",
       "\n",
       "  Sentiment_Polarity Sentiment_Subjectivity Log_Installs  Log_Reviews  \\\n",
       "0             -0.250               1.000000    13.122363     6.874198   \n",
       "1             -0.725               0.833333    13.122363     6.874198   \n",
       "2              0.000               0.000000    13.122363     6.874198   \n",
       "3              0.500               0.600000    13.122363     6.874198   \n",
       "4             -0.800               0.900000    13.122363     6.874198   \n",
       "\n",
       "    Rating Group  Revenue  Sentiment_score  Year  \n",
       "0  Above Average      0.0          -0.2500  2018  \n",
       "1  Above Average      0.0          -0.8020  2018  \n",
       "2  Above Average      0.0           0.3612  2018  \n",
       "3  Above Average      0.0           0.6369  2018  \n",
       "4  Above Average      0.0          -0.5719  2018  \n",
       "\n",
       "[5 rows x 23 columns]"
      ]
     },
     "execution_count": 126,
     "metadata": {},
     "output_type": "execute_result"
    }
   ],
   "source": [
    "data.head()"
   ]
  },
  {
   "cell_type": "markdown",
   "id": "9177d7bd-61cd-42f2-b0c0-c8cbc40f4a74",
   "metadata": {},
   "source": [
    "# Plotin graph using Plotly.express."
   ]
  },
  {
   "cell_type": "code",
   "execution_count": 127,
   "id": "fa785087-ef39-4e57-ab0d-a7baffb5fa65",
   "metadata": {},
   "outputs": [],
   "source": [
    "# html_files_path=\"./\"\n",
    "if not os.path.exists(html_files_path):\n",
    "    os.makedirs(html_files_path)"
   ]
  },
  {
   "cell_type": "code",
   "execution_count": 128,
   "id": "d60de696-0d16-46da-9dd2-39bd05eca557",
   "metadata": {},
   "outputs": [],
   "source": [
    "plot_container=\"\""
   ]
  },
  {
   "cell_type": "code",
   "execution_count": 129,
   "id": "1d872953-9c86-45ce-aabb-44dfb0ae74a1",
   "metadata": {},
   "outputs": [],
   "source": [
    "def save_plot_as_html(fig,filename,insight):\n",
    "    global plot_container\n",
    "    filepath = os.path.join(html_files_path,filename)\n",
    "    html_content= pio.to_html(fig,full_html=False,include_plotlyjs='inline' )\n",
    "    plot_container += f\"\"\"<div class = \"plot-container\" id=\"{filename}\" onclick=\"openPlot('{filename}')\">\n",
    "    <div class=\"plot\">{html_content}<div/>\n",
    "    <div class=\"insights\">{insight}</div>\n",
    "    </div>\n",
    "    \"\"\"\n",
    "    fig.write_html(filepath,full_html=False,include_plotlyjs='inline')\n",
    "    "
   ]
  },
  {
   "cell_type": "code",
   "execution_count": 130,
   "id": "d4ad754c-da0f-41c0-b0c1-7f98f026a13f",
   "metadata": {},
   "outputs": [],
   "source": [
    "plot_width = 400\n",
    "plot_height = 300\n",
    "plot_bg_color='black'\n",
    "text_color='white'\n",
    "title_font = {'size':16}\n",
    "axis_font = {'size':12}"
   ]
  },
  {
   "cell_type": "code",
   "execution_count": 131,
   "id": "993534c6-b9a6-40d2-ab82-0dfb6c5ca61e",
   "metadata": {},
   "outputs": [],
   "source": [
    "#Figure 1\n",
    "# Selecting top 10 Category by using .value_counts().nlargest(10)\n",
    "top_category = data['Category'].value_counts().nlargest(10)\n",
    "fig1 = px.bar(\n",
    "    x=top_category.index,\n",
    "    y=top_category.values,\n",
    "    labels={'x':'Category','y':'Count'},\n",
    "    title='Top 10 Category on Playstore',\n",
    "    color= top_category.index,\n",
    "    color_discrete_sequence=px.colors.sequential.Plasma,\n",
    "    width=400,\n",
    "    height=300\n",
    "    \n",
    ")\n",
    "fig1.update_layout(\n",
    "    plot_bgcolor='black',\n",
    "    paper_bgcolor='black',\n",
    "    font_color='white',\n",
    "    title_font={'size':16},\n",
    "    xaxis=dict(title_font={'size':12}),\n",
    "    yaxis=dict(title_font={'size':12}),\n",
    "    margin=dict(l=10,r=10,t=30,b=10)\n",
    ")\n",
    "# fig1.update_traces(marker=dict(marker=dict(line=dict(color='white',width=1))))\n",
    "save_plot_as_html(fig1,\"Category Graph 1.html\",\"The top categories on the play Store are dominated by tools, enter\")\n"
   ]
  },
  {
   "cell_type": "code",
   "execution_count": 132,
   "id": "f5a1bc1f-d95c-44e1-bbb4-29d7a26cbda6",
   "metadata": {},
   "outputs": [],
   "source": [
    "#Figure 2\n",
    "# Which type of app are most used free or paid \n",
    "type_count = data['Type'].value_counts()\n",
    "fig2 = px.pie(\n",
    "    names=type_count.index,\n",
    "    values=type_count.values,\n",
    "    title='App Type Distribution',\n",
    "    color= type_count.index,\n",
    "    color_discrete_sequence=px.colors.sequential.Viridis,\n",
    "    width=400,\n",
    "    height=300\n",
    "    \n",
    ")\n",
    "fig2.update_layout(\n",
    "    plot_bgcolor='black',\n",
    "    paper_bgcolor='black',\n",
    "    font_color='white',\n",
    "    title_font={'size':16},\n",
    "    margin=dict(l=10,r=10,t=30,b=10)\n",
    ")\n",
    "save_plot_as_html(fig2,\"Type Graph 2.html\",\"Most app's on the Play Store are free, Indicating a strategy to attract user and monetize thorugh ads or in app purchase.\")\n"
   ]
  },
  {
   "cell_type": "code",
   "execution_count": 133,
   "id": "3f51f681-7139-4137-a92b-411837e6e898",
   "metadata": {},
   "outputs": [],
   "source": [
    "#Figure 3\n",
    "# It show the Histogrm of Rating \n",
    "fig3 = px.histogram(\n",
    "    data,\n",
    "    x='Rating',\n",
    "    nbins=20,\n",
    "    title='Rating Distribution on Playstore',\n",
    "    color_discrete_sequence=px.colors.qualitative.Pastel1,\n",
    "    width=400,\n",
    "    height=300\n",
    "    \n",
    ")\n",
    "fig3.update_layout(\n",
    "    plot_bgcolor='black',\n",
    "    paper_bgcolor='black',\n",
    "    font_color='white',\n",
    "    title_font={'size':16},\n",
    "    xaxis=dict(title_font={'size':12}),\n",
    "    yaxis=dict(title_font={'size':12}),\n",
    "    margin=dict(l=10,r=10,t=30,b=10)\n",
    ")\n",
    "# fig1.update_traces(marker=dict(marker=dict(line=dict(color='white',width=1))))\n",
    "save_plot_as_html(fig3,\"Rating Graph 3.html\",\"The Rating are skewed towords higher values, suggesting that most apps are rated favorbly by user.\")\n"
   ]
  },
  {
   "cell_type": "code",
   "execution_count": 134,
   "id": "316594bf-28eb-4a20-84a3-f36c481b4920",
   "metadata": {},
   "outputs": [],
   "source": [
    "#Figure 4\n",
    "# Seeing which type of sentiment are show by the user \n",
    "sent_count = data['Sentiment'].value_counts()\n",
    "fig4 = px.pie(\n",
    "    names=sent_count.index,\n",
    "    values=sent_count.values,\n",
    "    title='App Sentiment Distribution',\n",
    "    color= sent_count.index,\n",
    "    color_discrete_sequence=px.colors.sequential.Cividis,\n",
    "    width=400,\n",
    "    height=300\n",
    "    \n",
    ")\n",
    "fig4.update_layout(\n",
    "    plot_bgcolor='black',\n",
    "    paper_bgcolor='black',\n",
    "    font_color='white',\n",
    "    title_font={'size':16},\n",
    "    margin=dict(l=10,r=10,t=30,b=10)\n",
    ")\n",
    "save_plot_as_html(fig4,\"Type Graph 4.html\",\"Sentiments in reviews show a mix of positive and negative feedback, with a slight lean toword positive sentiments.\")\n"
   ]
  },
  {
   "cell_type": "code",
   "execution_count": 135,
   "id": "a15adbc1-7141-4b5f-b71b-5f33ce9cbd1d",
   "metadata": {},
   "outputs": [
    {
     "data": {
      "text/plain": [
       "Category\n",
       "GAME                   17270\n",
       "FAMILY                  5436\n",
       "HEALTH_AND_FITNESS      2848\n",
       "DATING                  2533\n",
       "TRAVEL_AND_LOCAL        2419\n",
       "PRODUCTIVITY            2340\n",
       "PHOTOGRAPHY             2334\n",
       "SPORTS                  2289\n",
       "FINANCE                 1836\n",
       "COMMUNICATION           1810\n",
       "TOOLS                   1794\n",
       "MEDICAL                 1555\n",
       "SHOPPING                1388\n",
       "ENTERTAINMENT           1384\n",
       "NEWS_AND_MAGAZINES      1358\n",
       "PERSONALIZATION         1275\n",
       "BUSINESS                1261\n",
       "EDUCATION               1138\n",
       "SOCIAL                  1135\n",
       "LIFESTYLE               1090\n",
       "BOOKS_AND_REFERENCE      776\n",
       "FOOD_AND_DRINK           717\n",
       "HOUSE_AND_HOME           581\n",
       "ART_AND_DESIGN           382\n",
       "BEAUTY                   338\n",
       "LIBRARIES_AND_DEMO       333\n",
       "VIDEO_PLAYERS            331\n",
       "AUTO_AND_VEHICLES        289\n",
       "PARENTING                260\n",
       "WEATHER                  233\n",
       "MAPS_AND_NAVIGATION      192\n",
       "EVENTS                   158\n",
       "COMICS                    80\n",
       "Name: count, dtype: int64"
      ]
     },
     "execution_count": 135,
     "metadata": {},
     "output_type": "execute_result"
    }
   ],
   "source": [
    "data['Category'].value_counts()"
   ]
  },
  {
   "cell_type": "code",
   "execution_count": 136,
   "id": "5e1e6317-8120-498f-9ad6-729e8c8647a7",
   "metadata": {},
   "outputs": [
    {
     "data": {
      "text/plain": [
       "Installs\n",
       "100000000     14434\n",
       "10000000      11781\n",
       "1000000        9126\n",
       "5000000        6367\n",
       "50000000       5145\n",
       "100000         3700\n",
       "500000         3236\n",
       "1000000000     2051\n",
       "500000000      1762\n",
       "50000           802\n",
       "10000           646\n",
       "1000            113\n",
       "Name: count, dtype: int64"
      ]
     },
     "execution_count": 136,
     "metadata": {},
     "output_type": "execute_result"
    }
   ],
   "source": [
    "data['Installs'].value_counts()"
   ]
  },
  {
   "cell_type": "code",
   "execution_count": 137,
   "id": "3108921e-3c52-4273-a1eb-1a92ec21a3a9",
   "metadata": {},
   "outputs": [],
   "source": [
    "install_by_category = data.groupby('Category')['Installs'].sum().nlargest(10)"
   ]
  },
  {
   "cell_type": "code",
   "execution_count": 138,
   "id": "30c96fab-27d3-483d-87d9-c02ce2c9ea51",
   "metadata": {},
   "outputs": [
    {
     "name": "stdout",
     "output_type": "stream",
     "text": [
      "Category\n",
      "GAME                  1491528600000\n",
      "PHOTOGRAPHY            837616000000\n",
      "COMMUNICATION          636807000000\n",
      "NEWS_AND_MAGAZINES     368399300000\n",
      "SOCIAL                 323526100000\n",
      "FAMILY                 296006440000\n",
      "TOOLS                  237093800000\n",
      "PRODUCTIVITY           223113300000\n",
      "TRAVEL_AND_LOCAL        53560300000\n",
      "SHOPPING                53520000000\n",
      "Name: Installs, dtype: int64\n"
     ]
    }
   ],
   "source": [
    "print(install_by_category)"
   ]
  },
  {
   "cell_type": "code",
   "execution_count": 139,
   "id": "18ec5f88-02b3-45a3-94f7-696ed0a1bb7d",
   "metadata": {},
   "outputs": [],
   "source": [
    "#Figure 5\n",
    "# grouping the categored and install to see top 10 most install app category \n",
    "fig5 = px.bar(\n",
    "    x=install_by_category.index,\n",
    "    y=install_by_category.values,\n",
    "    labels={'x':'Installs','y':'Category'},\n",
    "    title='Top 10 Install by Category',\n",
    "    color= top_category.index,\n",
    "    color_discrete_sequence=px.colors.sequential.Oranges,\n",
    "    width=400,\n",
    "    height=300\n",
    "    \n",
    ")\n",
    "fig1.update_layout(\n",
    "    plot_bgcolor='black',\n",
    "    paper_bgcolor='black',\n",
    "    font_color='white',\n",
    "    title_font={'size':16},\n",
    "    xaxis=dict(title_font={'size':12}),\n",
    "    yaxis=dict(title_font={'size':12}),\n",
    "    margin=dict(l=10,r=10,t=30,b=10)\n",
    ")\n",
    "save_plot_as_html(fig5,\"Install Graph 5.html\",\"The category with the most installs are social and communication apps, reflecting their board appeal and daily usges. \")\n"
   ]
  },
  {
   "cell_type": "code",
   "execution_count": 140,
   "id": "a29477dc-fc24-4391-863d-fc356ef98520",
   "metadata": {},
   "outputs": [
    {
     "name": "stdout",
     "output_type": "stream",
     "text": [
      "Year\n",
      "2011       27\n",
      "2012       37\n",
      "2013       99\n",
      "2014      476\n",
      "2015      724\n",
      "2016     1522\n",
      "2017     3118\n",
      "2018    53160\n",
      "Name: count, dtype: int64\n"
     ]
    }
   ],
   "source": [
    "update_year = data['Year'].value_counts().sort_index()\n",
    "print(update_year)"
   ]
  },
  {
   "cell_type": "code",
   "execution_count": 141,
   "id": "2a9d055d-b2d9-4c99-aaae-de6bb8388de2",
   "metadata": {},
   "outputs": [],
   "source": [
    "#Figure 6\n",
    "# grouping the categored and install to see top 10 most install app category \n",
    "fig6 = px.line(\n",
    "    x=update_year.index,\n",
    "    y=update_year.values,\n",
    "    labels={'x':'Year','y':'No.Of Update'},\n",
    "    title='All updates over the years',\n",
    "    color_discrete_sequence=['#AB63FA'],\n",
    "    width=plot_width,\n",
    "    height=plot_height\n",
    "    \n",
    ")\n",
    "fig6.update_layout(\n",
    "    plot_bgcolor=plot_bg_color,\n",
    "    paper_bgcolor=plot_bg_color,\n",
    "    font_color=text_color,\n",
    "    title_font=title_font,\n",
    "    xaxis=dict(title_font=axis_font),\n",
    "    yaxis=dict(title_font=axis_font),\n",
    "    margin=dict(l=10,r=10,t=30,b=10)\n",
    ")\n",
    "save_plot_as_html(fig6,\"Update Graph 6.html\",\"Updates have been incressing over the years,showing that developers are actively maintaining and improving theri apps. \")\n"
   ]
  },
  {
   "cell_type": "code",
   "execution_count": 142,
   "id": "df218867-c99c-449e-84b5-4d20960e6aba",
   "metadata": {},
   "outputs": [],
   "source": [
    "reven_count = data.groupby('Category')['Revenue'].sum().nlargest(10)"
   ]
  },
  {
   "cell_type": "code",
   "execution_count": 143,
   "id": "1cecd899-6fb1-4734-9ca5-98f2fdae2d0c",
   "metadata": {},
   "outputs": [
    {
     "name": "stdout",
     "output_type": "stream",
     "text": [
      "Category\n",
      "PERSONALIZATION        157506000.0\n",
      "SPORTS                  59980000.0\n",
      "MEDICAL                 48699260.0\n",
      "FAMILY                  28728000.0\n",
      "GAME                    21558000.0\n",
      "ART_AND_DESIGN                 0.0\n",
      "AUTO_AND_VEHICLES              0.0\n",
      "BEAUTY                         0.0\n",
      "BOOKS_AND_REFERENCE            0.0\n",
      "BUSINESS                       0.0\n",
      "Name: Revenue, dtype: float64\n"
     ]
    }
   ],
   "source": [
    "print(reven_count)"
   ]
  },
  {
   "cell_type": "code",
   "execution_count": 144,
   "id": "0800d756-628d-47bb-b37d-3407803e974b",
   "metadata": {},
   "outputs": [],
   "source": [
    "#Figure 7\n",
    "\n",
    "fig7 = px.bar(\n",
    "    x=reven_count.index,\n",
    "    y=reven_count.values,\n",
    "    labels={'x':'Category','y':'Revenue'},\n",
    "    title='Top 10 Revenue by Content',\n",
    "    color= reven_count.index,\n",
    "    color_discrete_sequence=px.colors.diverging.Earth,\n",
    "    width=400,\n",
    "    height=300\n",
    "    \n",
    ")\n",
    "fig7.update_layout(\n",
    "    plot_bgcolor='black',\n",
    "    paper_bgcolor='black',\n",
    "    font_color='white',\n",
    "    title_font={'size':16},\n",
    "    xaxis=dict(title_font={'size':12}),\n",
    "    yaxis=dict(title_font={'size':12}),\n",
    "    margin=dict(l=10,r=10,t=30,b=10)\n",
    ")\n",
    "save_plot_as_html(fig7,\"Revenue Graph 7.html\",\"Categories such as Business and Productivity lead in revenue generation, indicating their monetization potential.\")\n"
   ]
  },
  {
   "cell_type": "code",
   "execution_count": 145,
   "id": "076bf03e-14ad-4c02-8ac7-4c77dd02e08c",
   "metadata": {},
   "outputs": [],
   "source": [
    "count_Genres = data['Genres'].str.split(\";\",expand=True).stack().value_counts().nlargest(10)"
   ]
  },
  {
   "cell_type": "code",
   "execution_count": 146,
   "id": "f7cc1674-71c1-4129-bf4e-3090d5f17012",
   "metadata": {},
   "outputs": [
    {
     "data": {
      "text/plain": [
       "Action              6621\n",
       "Casual              4476\n",
       "Education           3652\n",
       "Sports              3644\n",
       "Health & Fitness    2848\n",
       "Arcade              2633\n",
       "Dating              2533\n",
       "Travel & Local      2419\n",
       "Puzzle              2353\n",
       "Productivity        2340\n",
       "Name: count, dtype: int64"
      ]
     },
     "execution_count": 146,
     "metadata": {},
     "output_type": "execute_result"
    }
   ],
   "source": [
    "count_Genres"
   ]
  },
  {
   "cell_type": "code",
   "execution_count": 147,
   "id": "a14540f8-7594-4934-8c8e-9e76f05be714",
   "metadata": {},
   "outputs": [],
   "source": [
    "#Figure 8\n",
    "\n",
    "fig8 = px.bar(\n",
    "    x=count_Genres.index,\n",
    "    y=count_Genres.values,\n",
    "    labels={'x':'Genres','y':'Count'},\n",
    "    title='Top 10 Genres',\n",
    "    color= count_Genres.index,\n",
    "    color_discrete_sequence=px.colors.sequential.YlOrRd,\n",
    "    width=400,\n",
    "    height=300\n",
    "    \n",
    ")\n",
    "fig8.update_layout(\n",
    "    plot_bgcolor='black',\n",
    "    paper_bgcolor='black',\n",
    "    font_color='white',\n",
    "    title_font={'size':16},\n",
    "    xaxis=dict(title_font={'size':12}),\n",
    "    yaxis=dict(title_font={'size':12}),\n",
    "    margin=dict(l=10,r=10,t=30,b=10)\n",
    ")\n",
    "save_plot_as_html(fig8,\"Genres Graph 8.html\",\"Action and Casual genres are the most common,reflection user's preference for engaging and easy to play games.\")\n"
   ]
  },
  {
   "cell_type": "code",
   "execution_count": 148,
   "id": "f464a9b7-ff69-450c-9a01-7f479a85a678",
   "metadata": {},
   "outputs": [],
   "source": [
    "#Figure 9\n",
    "\n",
    "fig9 = px.scatter(\n",
    "    data,\n",
    "    x='Last Updated',\n",
    "    y='Rating',\n",
    "    color='Type',\n",
    "    title='Impact of last update',\n",
    "    color_discrete_sequence=px.colors.sequential.YlOrRd,\n",
    "    width=400,\n",
    "    height=300\n",
    "    \n",
    ")\n",
    "fig9.update_layout(\n",
    "    plot_bgcolor='black',\n",
    "    paper_bgcolor='black',\n",
    "    font_color='white',\n",
    "    title_font={'size':16},\n",
    "    xaxis=dict(title_font={'size':12}),\n",
    "    yaxis=dict(title_font={'size':12}),\n",
    "    margin=dict(l=10,r=10,t=30,b=10)\n",
    ")\n",
    "save_plot_as_html(fig9,\"Update Graph 9.html\",\"A scatter plot show a weak correlation betwee last update and rating, suggesting that more frequent update dont always result in better ratings. \")\n"
   ]
  },
  {
   "cell_type": "code",
   "execution_count": 149,
   "id": "bf5ca2fb-701e-4f4b-8712-a0e707da3141",
   "metadata": {},
   "outputs": [],
   "source": [
    "#Figure 10\n",
    "\n",
    "fig10 = px.box(\n",
    "    data,\n",
    "    x='Type',\n",
    "    y='Rating',\n",
    "    color='Type',\n",
    "    title='Rating for paid and free apps',\n",
    "    color_discrete_sequence=px.colors.qualitative.Pastel1,\n",
    "    width=400,\n",
    "    height=300\n",
    "    \n",
    ")\n",
    "fig10.update_layout(\n",
    "    plot_bgcolor='black',\n",
    "    paper_bgcolor='black',\n",
    "    font_color='white',\n",
    "    title_font={'size':16},\n",
    "    xaxis=dict(title_font={'size':12}),\n",
    "    yaxis=dict(title_font={'size':12}),\n",
    "    margin=dict(l=10,r=10,t=30,b=10)\n",
    ")\n",
    "save_plot_as_html(fig10,\"Paid free  Graph 10.html\",\"Paid apps have generally have heigher rating compare to free app,suggesting that user expect heigher quality from the apps they pay for. \")\n"
   ]
  },
  {
   "cell_type": "code",
   "execution_count": 150,
   "id": "a18d0864-e4d0-41d2-b158-fc51e41f9ea0",
   "metadata": {},
   "outputs": [
    {
     "data": {
      "text/plain": [
       "True"
      ]
     },
     "execution_count": 150,
     "metadata": {},
     "output_type": "execute_result"
    }
   ],
   "source": [
    "import plotly.express as px\n",
    "\n",
    "# Define the path for your HTML files\n",
    "html_files_path = \"./\"\n",
    "\n",
    "# Make sure the directory exists\n",
    "if not os.path.exists(html_files_path):\n",
    "    os.makedirs(html_files_path)\n",
    "\n",
    "# Initialize plot_containers\n",
    "plot_containers = \"\"\n",
    "\n",
    "# Save each Plotly figure to an HTML file\n",
    "def save_plot_as_html(fig, filename, insight):\n",
    "    global plot_containers\n",
    "    filepath = os.path.join(html_files_path, filename)\n",
    "    html_content = pio.to_html(fig, full_html=False, include_plotlyjs='inline')\n",
    "    # Append the plot and its insight to plot_containers\n",
    "    plot_containers += f\"\"\"\n",
    "    <div class=\"plot-container\" id=\"{filename}\" onclick=\"openPlot('{filename}')\">\n",
    "        <div class=\"plot\">{html_content}</div>\n",
    "        <div class=\"insights\">{insight}</div>\n",
    "    </div>\n",
    "    \"\"\"\n",
    "    fig.write_html(filepath, full_html=False, include_plotlyjs='inline')\n",
    "\n",
    "# Define your plots\n",
    "plot_width = 400\n",
    "plot_height = 300\n",
    "plot_bg_color = 'black'\n",
    "text_color = 'white'\n",
    "title_font = {'size': 16}\n",
    "axis_font = {'size': 12}\n",
    "\n",
    "# Category Analysis Plot\n",
    "category_counts = data['Category'].value_counts().nlargest(10)\n",
    "fig1 = px.bar(\n",
    "    x=category_counts.index,\n",
    "    y=category_counts.values,\n",
    "    labels={'x': 'Category', 'y': 'Count'},\n",
    "    title='Top Categories on Play Store',\n",
    "    color=category_counts.index,\n",
    "    color_discrete_sequence=px.colors.sequential.Plasma,\n",
    "    width=plot_width,\n",
    "    height=plot_height\n",
    ")\n",
    "fig1.update_layout(\n",
    "    plot_bgcolor=plot_bg_color,\n",
    "    paper_bgcolor=plot_bg_color,\n",
    "    font_color=text_color,\n",
    "    title_font=title_font,\n",
    "    xaxis=dict(title_font=axis_font),\n",
    "    yaxis=dict(title_font=axis_font),\n",
    "    margin=dict(l=10, r=10, t=30, b=10)\n",
    ")\n",
    "fig1.update_traces(marker=dict(line=dict(color=text_color, width=1)))\n",
    "save_plot_as_html(fig1, \"category_analysis_1.html\", \"The top categories on the Play Store are dominated by tools, entertainment, and productivity apps. This suggests users are looking for apps that either provide utility or offer leisure activities.\")\n",
    "\n",
    "# Type Analysis Plot\n",
    "type_counts = data['Type'].value_counts()\n",
    "fig2 = px.pie(\n",
    "    values=type_counts.values,\n",
    "    names=type_counts.index,\n",
    "    title='App Type Distribution',\n",
    "    color_discrete_sequence=px.colors.sequential.RdBu,\n",
    "    width=plot_width,\n",
    "    height=plot_height\n",
    ")\n",
    "fig2.update_traces(textposition='inside', textinfo='percent+label')\n",
    "fig2.update_layout(\n",
    "    plot_bgcolor=plot_bg_color,\n",
    "    paper_bgcolor=plot_bg_color,\n",
    "    font_color=text_color,\n",
    "    title_font=title_font,\n",
    "    margin=dict(l=10, r=10, t=30, b=10)\n",
    ")\n",
    "save_plot_as_html(fig2, \"type_analysis_2.html\", \"Most apps on the Play Store are free, indicating a strategy to attract users first and monetize through ads or in-app purchases.\")\n",
    "\n",
    "# Rating Distribution Plot\n",
    "fig3 = px.histogram(\n",
    "    data,\n",
    "    x='Rating',\n",
    "    nbins=20,\n",
    "    title='Rating Distribution',\n",
    "    color_discrete_sequence=['#636EFA'],\n",
    "    width=plot_width,\n",
    "    height=plot_height\n",
    ")\n",
    "fig3.update_layout(\n",
    "    plot_bgcolor=plot_bg_color,\n",
    "    paper_bgcolor=plot_bg_color,\n",
    "    font_color=text_color,\n",
    "    title_font=title_font,\n",
    "    xaxis=dict(title_font=axis_font),\n",
    "    yaxis=dict(title_font=axis_font),\n",
    "    margin=dict(l=10, r=10, t=30, b=10)\n",
    ")\n",
    "save_plot_as_html(fig3, \"rating_distribution_3.html\", \"Ratings are skewed towards higher values, suggesting that most apps are rated favorably by users.\")\n",
    "\n",
    "sentiment_counts = data['Sentiment_score'].value_counts()\n",
    "fig4 = px.bar(\n",
    "    x=sentiment_counts.index,\n",
    "    y=sentiment_counts.values,\n",
    "    labels={'x': 'Sentiment Score', 'y': 'Count'},\n",
    "    title='Sentiment Distribution',\n",
    "    color=sentiment_counts.index,\n",
    "    color_discrete_sequence=px.colors.sequential.RdPu,\n",
    "    width=plot_width,\n",
    "    height=plot_height\n",
    ")\n",
    "fig4.update_layout(\n",
    "    plot_bgcolor=plot_bg_color,\n",
    "    paper_bgcolor=plot_bg_color,\n",
    "    font_color=text_color,\n",
    "    title_font=title_font,\n",
    "    xaxis=dict(title_font=axis_font),\n",
    "    yaxis=dict(title_font=axis_font),\n",
    "    margin=dict(l=10, r=10, t=30, b=10)\n",
    ")\n",
    "fig4.update_traces(marker=dict(line=dict(color=text_color, width=1)))\n",
    "save_plot_as_html(fig4, \"sentiment_distribution_4.html\", \"Sentiments in reviews show a mix of positive and negative feedback, with a slight lean towards positive sentiments.\")\n",
    "\n",
    "# Installs by Category Plot\n",
    "installs_by_category = data.groupby('Category')['Installs'].sum().nlargest(10)\n",
    "fig5 = px.bar(\n",
    "    x=installs_by_category.values,\n",
    "    y=installs_by_category.index,\n",
    "    orientation='h',\n",
    "    labels={'x': 'Installs', 'y': 'Category'},\n",
    "    title='Installs by Category',\n",
    "    color=installs_by_category.index,\n",
    "    color_discrete_sequence=px.colors.sequential.Blues,\n",
    "    width=plot_width,\n",
    "    height=plot_height\n",
    ")\n",
    "fig5.update_layout(\n",
    "    plot_bgcolor=plot_bg_color,\n",
    "    paper_bgcolor=plot_bg_color,\n",
    "    font_color=text_color,\n",
    "    title_font=title_font,\n",
    "    xaxis=dict(title_font=axis_font),\n",
    "    yaxis=dict(title_font=axis_font),\n",
    "    margin=dict(l=10, r=10, t=30, b=10)\n",
    ")\n",
    "fig5.update_traces(marker=dict(line=dict(color=text_color, width=1)))\n",
    "save_plot_as_html(fig5, \"installs_by_category_5.html\", \"The categories with the most installs are social and communication apps, which reflects their broad appeal and daily usage.\")\n",
    "\n",
    "# Updates Per Year Plot\n",
    "updates_per_year = data['Last Updated'].dt.year.value_counts().sort_index()\n",
    "fig6 = px.line(\n",
    "    x=updates_per_year.index,\n",
    "    y=updates_per_year.values,\n",
    "    labels={'x': 'Year', 'y': 'Number of Updates'},\n",
    "    title='Number of Updates Over the Years',\n",
    "    color_discrete_sequence=['#AB63FA'],\n",
    "    width=plot_width,\n",
    "    height=plot_height\n",
    ")\n",
    "fig6.update_layout(\n",
    "    plot_bgcolor=plot_bg_color,\n",
    "    paper_bgcolor=plot_bg_color,\n",
    "    font_color=text_color,\n",
    "    title_font=title_font,\n",
    "    xaxis=dict(title_font=axis_font),\n",
    "    yaxis=dict(title_font=axis_font),\n",
    "    margin=dict(l=10, r=10, t=30, b=10)\n",
    ")\n",
    "save_plot_as_html(fig6, \"updates_per_year_6.html\", \"Updates have been increasing over the years, showing that developers are actively maintaining and improving their apps.\")\n",
    "\n",
    "# Revenue by Category Plot\n",
    "revenue_by_category = data.groupby('Category')['Revenue'].sum().nlargest(10)\n",
    "fig7 = px.bar(\n",
    "    x=revenue_by_category.index,\n",
    "    y=revenue_by_category.values,\n",
    "    labels={'x': 'Category', 'y': 'Revenue'},\n",
    "    title='Revenue by Category',\n",
    "    color=revenue_by_category.index,\n",
    "    color_discrete_sequence=px.colors.sequential.Greens,\n",
    "    width=plot_width,\n",
    "    height=plot_height\n",
    ")\n",
    "fig7.update_layout(\n",
    "    plot_bgcolor=plot_bg_color,\n",
    "    paper_bgcolor=plot_bg_color,\n",
    "    font_color=text_color,\n",
    "    title_font=title_font,\n",
    "    xaxis=dict(title_font=axis_font),\n",
    "    yaxis=dict(title_font=axis_font),\n",
    "    margin=dict(l=10, r=10, t=30, b=10)\n",
    ")\n",
    "fig7.update_traces(marker=dict(line=dict(color=text_color, width=1)))\n",
    "save_plot_as_html(fig7, \"revenue_by_category_7.html\", \"Categories such as Business and Productivity lead in revenue generation, indicating their monetization potential.\")\n",
    "\n",
    "# Genre Count Plot\n",
    "genre_counts = data['Genres'].str.split(';', expand=True).stack().value_counts().nlargest(10)\n",
    "fig8 = px.bar(\n",
    "    x=genre_counts.index,\n",
    "    y=genre_counts.values,\n",
    "    labels={'x': 'Genre', 'y': 'Count'},\n",
    "    title='Top Genres',\n",
    "    color=genre_counts.index,\n",
    "    color_discrete_sequence=px.colors.sequential.OrRd,\n",
    "    width=plot_width,\n",
    "    height=plot_height\n",
    ")\n",
    "fig8.update_layout(\n",
    "    plot_bgcolor=plot_bg_color,\n",
    "    paper_bgcolor=plot_bg_color,\n",
    "    font_color=text_color,\n",
    "    title_font=title_font,\n",
    "    xaxis=dict(title_font=axis_font),\n",
    "    yaxis=dict(title_font=axis_font),\n",
    "    margin=dict(l=10, r=10, t=30, b=10)\n",
    ")\n",
    "fig8.update_traces(marker=dict(line=dict(color=text_color, width=1)))\n",
    "save_plot_as_html(fig8, \"genres_counts_8.html\", \"Action and Casual genres are the most common, reflecting users' preference for engaging and easy-to-play games.\")\n",
    "\n",
    "# Impact of Last Update on Rating\n",
    "fig9 = px.scatter(\n",
    "    data,\n",
    "    x='Last Updated',\n",
    "    y='Rating',\n",
    "    color='Type',\n",
    "    title='Impact of Last Update on Rating',\n",
    "    color_discrete_sequence=px.colors.qualitative.Vivid,\n",
    "    width=plot_width,\n",
    "    height=plot_height\n",
    ")\n",
    "fig9.update_layout(\n",
    "    plot_bgcolor=plot_bg_color,\n",
    "    paper_bgcolor=plot_bg_color,\n",
    "    font_color=text_color,\n",
    "    title_font=title_font,\n",
    "    xaxis=dict(title_font=axis_font),\n",
    "    yaxis=dict(title_font=axis_font),\n",
    "    margin=dict(l=10, r=10, t=30, b=10)\n",
    ")\n",
    "save_plot_as_html(fig9, \"update_on_rating_9.html\", \"The scatter plot shows a weak correlation between the last update date and ratings, suggesting that more frequent updates don't always result in better ratings.\")\n",
    "\n",
    "# Ratings for Paid vs Free Apps\n",
    "fig10 = px.box(\n",
    "    data,\n",
    "    x='Type',\n",
    "    y='Rating',\n",
    "    color='Type',\n",
    "    title='Ratings for Paid vs Free Apps',\n",
    "    color_discrete_sequence=px.colors.qualitative.Pastel,\n",
    "    width=plot_width,\n",
    "    height=plot_height\n",
    ")\n",
    "fig10.update_layout(\n",
    "    plot_bgcolor=plot_bg_color,\n",
    "    paper_bgcolor=plot_bg_color,\n",
    "    font_color=text_color,\n",
    "    title_font=title_font,\n",
    "    xaxis=dict(title_font=axis_font),\n",
    "    yaxis=dict(title_font=axis_font),\n",
    "    margin=dict(l=10, r=10, t=30, b=10)\n",
    ")\n",
    "save_plot_as_html(fig10, \"ratings_paid_free_10.html\", \"Paid apps generally have higher ratings compared to free apps, suggesting that users expect higher quality from apps they pay for.\")\n",
    "\n",
    "# Split plot_containers to handle the last plot properly\n",
    "plot_containers_split = plot_containers.split('</div>')\n",
    "if len(plot_containers_split) > 1:\n",
    "    final_plot = plot_containers_split[-2] + '</div>'\n",
    "else:\n",
    "    final_plot = plot_containers  # Use plot_containers as default if splitting isn't sufficient\n",
    "\n",
    "# HTML template for the dashboard\n",
    "dashboard_html = \"\"\"\n",
    "<!DOCTYPE html>\n",
    "<html lang=\"en\">\n",
    "<head>\n",
    "    <meta charset=\"UTF-8\">\n",
    "    <meta name=\"viewport\" content=\"width=device-width, initial-scale=1.0\">\n",
    "    <title>Google Play Store Reviews Analytics</title>\n",
    "    <style>\n",
    "        body {{\n",
    "            font-family: Arial, sans-serif;\n",
    "            background-color: #333;\n",
    "            color: #fff;\n",
    "            margin: 50;\n",
    "            padding: 0;\n",
    "        }}\n",
    "        .header {{\n",
    "            display: flex;\n",
    "            align-items: center;\n",
    "            justify-content: center;\n",
    "            padding: 20px;\n",
    "            background-color: #444;\n",
    "        }}\n",
    "        .header img {{\n",
    "            margin: 0 10px;\n",
    "            height: 50px;\n",
    "        }}\n",
    "        .container {{\n",
    "            display: flex;\n",
    "            flex-wrap: wrap;\n",
    "            justify-content: center;\n",
    "            padding: 20px;\n",
    "        }}\n",
    "        .plot-container {{\n",
    "            border: 2px solid #555;\n",
    "            margin: 30px;\n",
    "            padding: 10px;\n",
    "            width: {plot_width}px;\n",
    "            height: {plot_height}px;\n",
    "            overflow: hidden;\n",
    "            position: relative;\n",
    "            cursor: pointer;\n",
    "        }}\n",
    "        .insights {{\n",
    "            display: none;\n",
    "            position: absolute;\n",
    "            right: 10px;\n",
    "            top: 10px;\n",
    "            background-color: rgba(0, 0, 0, 0.7);\n",
    "            padding: 5px;\n",
    "            border-radius: 5px;\n",
    "            color: #fff;\n",
    "        }}\n",
    "        .plot-container:hover .insights {{\n",
    "            display: block;\n",
    "        }}\n",
    "    </style>\n",
    "    <script>\n",
    "        function openPlot(filename) {{\n",
    "            window.open(filename, '_blank');\n",
    "        }}\n",
    "    </script>\n",
    "</head>\n",
    "<body>\n",
    "    <div class=\"header\">\n",
    "        <img src=\"https://upload.wikimedia.org/wikipedia/commons/thumb/4/4a/Logo_2013_Google.png/800px-Logo_2013_Google.png\" alt=\"Google Logo\">\n",
    "        <h1>Google Play Store Reviews Analytics</h1>\n",
    "        <img src=\"https://upload.wikimedia.org/wikipedia/commons/thumb/7/78/Google_Play_Store_badge_EN.svg/1024px-Google_Play_Store_badge_EN.svg.png\" alt=\"Google Play Store Logo\">\n",
    "    </div>\n",
    "    <div class=\"container\">\n",
    "        {plots}\n",
    "    </div>\n",
    "</body>\n",
    "</html>\n",
    "\"\"\"\n",
    "\n",
    "# Use these containers to fill in your dashboard HTML\n",
    "final_html = dashboard_html.format(plots=plot_containers, plot_width=plot_width, plot_height=plot_height)\n",
    "\n",
    "# Save the final dashboard to an HTML file\n",
    "dashboard_path = os.path.join(html_files_path, \"dashboard.html\")\n",
    "with open(dashboard_path, \"w\", encoding=\"utf-8\") as f:\n",
    "    f.write(final_html)\n",
    "\n",
    "# Automatically open the generated HTML file in a web browser\n",
    "webbrowser.open('file://' + os.path.realpath(dashboard_path))"
   ]
  },
  {
   "cell_type": "code",
   "execution_count": null,
   "id": "dfa48c9f-9596-487c-974f-49abe604e8e4",
   "metadata": {},
   "outputs": [],
   "source": []
  },
  {
   "cell_type": "code",
   "execution_count": null,
   "id": "088ed1d4-55e9-4c3f-96f3-5448119efb76",
   "metadata": {},
   "outputs": [],
   "source": []
  },
  {
   "cell_type": "code",
   "execution_count": null,
   "id": "03680926-a572-46e5-8cea-09c70decffa9",
   "metadata": {},
   "outputs": [],
   "source": []
  },
  {
   "cell_type": "code",
   "execution_count": null,
   "id": "bc69767c-f533-4cab-88e5-0dca38e716e3",
   "metadata": {},
   "outputs": [],
   "source": []
  },
  {
   "cell_type": "code",
   "execution_count": null,
   "id": "14de71aa-7d37-4ade-a3c6-0e78653e9169",
   "metadata": {},
   "outputs": [],
   "source": []
  },
  {
   "cell_type": "code",
   "execution_count": null,
   "id": "a6a18688-a619-43e8-932f-13f1976352f8",
   "metadata": {},
   "outputs": [],
   "source": []
  },
  {
   "cell_type": "code",
   "execution_count": null,
   "id": "9cddaa26-5821-489b-a4db-1abd9aae0a83",
   "metadata": {},
   "outputs": [],
   "source": []
  },
  {
   "cell_type": "code",
   "execution_count": null,
   "id": "0d5d7c25-3cf0-4f75-ae50-35051df5a251",
   "metadata": {},
   "outputs": [],
   "source": []
  },
  {
   "cell_type": "code",
   "execution_count": null,
   "id": "891296fc-f694-450e-b7c2-0bcd56baa15e",
   "metadata": {},
   "outputs": [],
   "source": []
  },
  {
   "cell_type": "code",
   "execution_count": null,
   "id": "bb75de89-6a8f-4230-a9cf-104c612dbe49",
   "metadata": {},
   "outputs": [],
   "source": []
  },
  {
   "cell_type": "code",
   "execution_count": null,
   "id": "bfbd9cfc-5109-4547-92e3-141d345c95a8",
   "metadata": {},
   "outputs": [],
   "source": []
  },
  {
   "cell_type": "code",
   "execution_count": null,
   "id": "77ccf9f3-2e85-4c0f-a34c-de217972474d",
   "metadata": {},
   "outputs": [],
   "source": []
  },
  {
   "cell_type": "code",
   "execution_count": null,
   "id": "061edc51-7ede-44c8-9d7e-1a28898ddcb3",
   "metadata": {},
   "outputs": [],
   "source": []
  },
  {
   "cell_type": "code",
   "execution_count": null,
   "id": "d0188b31-83d5-4bd9-8d24-e2fea9f522e6",
   "metadata": {},
   "outputs": [],
   "source": []
  },
  {
   "cell_type": "code",
   "execution_count": null,
   "id": "a80c82dd-eea2-46dd-ad51-589fffd5eb80",
   "metadata": {},
   "outputs": [],
   "source": []
  },
  {
   "cell_type": "code",
   "execution_count": null,
   "id": "301cefdd-01cf-4fa7-a253-812c680e9da6",
   "metadata": {},
   "outputs": [],
   "source": []
  },
  {
   "cell_type": "code",
   "execution_count": null,
   "id": "426cdae4-ac2d-427b-9f15-0d1c747e44da",
   "metadata": {},
   "outputs": [],
   "source": []
  },
  {
   "cell_type": "code",
   "execution_count": null,
   "id": "a18db0c9-dded-485c-ae9c-b351bc68fe29",
   "metadata": {},
   "outputs": [],
   "source": []
  },
  {
   "cell_type": "code",
   "execution_count": null,
   "id": "1c0cea94-2212-4092-9f76-317b2195d31f",
   "metadata": {},
   "outputs": [],
   "source": []
  }
 ],
 "metadata": {
  "kernelspec": {
   "display_name": "Python 3 (ipykernel)",
   "language": "python",
   "name": "python3"
  },
  "language_info": {
   "codemirror_mode": {
    "name": "ipython",
    "version": 3
   },
   "file_extension": ".py",
   "mimetype": "text/x-python",
   "name": "python",
   "nbconvert_exporter": "python",
   "pygments_lexer": "ipython3",
   "version": "3.12.4"
  }
 },
 "nbformat": 4,
 "nbformat_minor": 5
}
